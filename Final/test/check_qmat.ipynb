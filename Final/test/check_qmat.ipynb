{
 "cells": [
  {
   "cell_type": "code",
   "execution_count": 29,
   "id": "a9e830f5",
   "metadata": {},
   "outputs": [
    {
     "name": "stdout",
     "output_type": "stream",
     "text": [
      "[[0, 2, 1, 4, 3], [4, 1, 3, 2, 0], [3, 4, 2, 0, 1], [1, 0, 4, 3, 2], [2, 3, 0, 1, 4]]\n",
      "[[0, 2, 1, 4, 3], [3, 1, 4, 0, 2], [4, 3, 2, 1, 0], [2, 4, 0, 3, 1], [1, 0, 3, 2, 4]]\n",
      "[[0, 2, 3, 4, 1], [3, 1, 4, 2, 0], [4, 0, 2, 1, 3], [1, 4, 0, 3, 2], [2, 3, 1, 0, 4]]\n",
      "[[0, 2, 4, 1, 3], [4, 1, 3, 0, 2], [3, 0, 2, 4, 1], [2, 4, 1, 3, 0], [1, 3, 0, 2, 4]]\n",
      "[[0, 3, 1, 4, 2], [4, 1, 0, 2, 3], [3, 4, 2, 1, 0], [2, 0, 4, 3, 1], [1, 2, 3, 0, 4]]\n",
      "[[0, 3, 4, 1, 2], [4, 1, 3, 2, 0], [1, 0, 2, 4, 3], [2, 4, 0, 3, 1], [3, 2, 1, 0, 4]]\n",
      "[[0, 3, 4, 1, 2], [2, 1, 0, 4, 3], [3, 4, 2, 0, 1], [4, 2, 1, 3, 0], [1, 0, 3, 2, 4]]\n",
      "[[0, 3, 4, 2, 1], [2, 1, 3, 4, 0], [1, 4, 2, 0, 3], [4, 0, 1, 3, 2], [3, 2, 0, 1, 4]]\n",
      "[[0, 4, 1, 2, 3], [3, 1, 0, 4, 2], [4, 3, 2, 0, 1], [1, 2, 4, 3, 0], [2, 0, 3, 1, 4]]\n",
      "[[0, 4, 3, 1, 2], [2, 1, 4, 0, 3], [1, 3, 2, 4, 0], [4, 2, 0, 3, 1], [3, 0, 1, 2, 4]]\n",
      "[[0, 4, 3, 2, 1], [2, 1, 0, 4, 3], [4, 3, 2, 1, 0], [1, 0, 4, 3, 2], [3, 2, 1, 0, 4]]\n",
      "[[0, 4, 3, 2, 1], [3, 1, 4, 0, 2], [1, 0, 2, 4, 3], [4, 2, 1, 3, 0], [2, 3, 0, 1, 4]]\n"
     ]
    }
   ],
   "source": [
    "with open(\"qmat.txt\") as f:\n",
    "    result = f.read().replace('{','').replace('}','').split('\\n')[:-1]\n",
    "    for mat in [eval(x) for x in result]:\n",
    "        for a in range(5):\n",
    "            for b in range(5):\n",
    "                if mat[mat[b][a]][b] != mat[a][mat[b][a]]:\\\n",
    "                    print(\"Wrong answer\")\n",
    "#                 print(mat[mat[b][a]][b],  mat[a][mat[b][a]])\n",
    "                "
   ]
  },
  {
   "cell_type": "code",
   "execution_count": null,
   "id": "537d5d86",
   "metadata": {},
   "outputs": [],
   "source": []
  }
 ],
 "metadata": {
  "kernelspec": {
   "display_name": "Python 3 (ipykernel)",
   "language": "python",
   "name": "python3"
  },
  "language_info": {
   "codemirror_mode": {
    "name": "ipython",
    "version": 3
   },
   "file_extension": ".py",
   "mimetype": "text/x-python",
   "name": "python",
   "nbconvert_exporter": "python",
   "pygments_lexer": "ipython3",
   "version": "3.8.10"
  }
 },
 "nbformat": 4,
 "nbformat_minor": 5
}
