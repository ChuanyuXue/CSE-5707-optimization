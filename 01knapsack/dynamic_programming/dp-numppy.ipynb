{
 "cells": [
  {
   "cell_type": "code",
   "execution_count": 8,
   "id": "d627b9e0",
   "metadata": {},
   "outputs": [
    {
     "name": "stdout",
     "output_type": "stream",
     "text": [
      "The cython extension is already loaded. To reload it, use:\n",
      "  %reload_ext cython\n"
     ]
    }
   ],
   "source": [
    "%load_ext cython"
   ]
  },
  {
   "cell_type": "code",
   "execution_count": 9,
   "id": "bb4cc885",
   "metadata": {},
   "outputs": [],
   "source": [
    "from os import listdir\n",
    "from tqdm import tqdm\n",
    "import time\n",
    "import numpy as np"
   ]
  },
  {
   "cell_type": "code",
   "execution_count": 10,
   "id": "1663f124",
   "metadata": {},
   "outputs": [],
   "source": [
    "PATH = \"../data/large_scale/\"\n",
    "# PATH = \"/Users/chuanyu/Code/CSE-5707-optimization/01knapsack/data/customized_dataset/\""
   ]
  },
  {
   "cell_type": "code",
   "execution_count": 11,
   "id": "032da98a",
   "metadata": {},
   "outputs": [],
   "source": [
    "def knapSack(W, wt, val, n):\n",
    "    val = np.array(val, dtype=np.uint32)\n",
    "    wt = np.array(wt, dtype=np.uint32)\n",
    "    K = np.zeros(shape = (n+1, W+1), dtype=np.uint32)\n",
    "    for i in tqdm(range(n + 1), file):\n",
    "        for w in range(W + 1):\n",
    "            if i == 0 or w == 0:\n",
    "                K[i][w] = 0\n",
    "            elif wt[i-1] <= w:\n",
    "                K[i][w] = max(val[i-1] + K[i-1][w-wt[i-1]], K[i-1][w])\n",
    "            else:\n",
    "                K[i][w] = K[i-1][w]\n",
    "    ## OUTPUT THE PATH      \n",
    "    print('----%s Decision Result----'%file)\n",
    "    \n",
    "    w = W\n",
    "    res = K[n][W]\n",
    "    for i in range(n, 0, -1):\n",
    "        if res <= 0:\n",
    "            break\n",
    "        if res == K[i - 1][w]:\n",
    "            continue\n",
    "        else:\n",
    "            print(i - 1)\n",
    "            res = res - val[i - 1]\n",
    "            w = w - wt[i - 1]\n",
    "  \n",
    "    return K[n][W]"
   ]
  },
  {
   "cell_type": "code",
   "execution_count": 12,
   "id": "6d95ab75",
   "metadata": {},
   "outputs": [],
   "source": [
    "# %%cython -a\n",
    "\n",
    "# cpdef int knapSack(int[:] wt, int[:] val):\n",
    "#     DEF n = 100_000\n",
    "#     DEF W = 49973\n",
    "#     cdef int K[n + 1][W + 1]\n",
    "#     cdef int i, w\n",
    "#     for i in range(n + 1):\n",
    "#         for w in range(W + 1):\n",
    "#             if i == 0 or w == 0:\n",
    "#                 K[i][w] = 0\n",
    "#             elif wt[i-1] <= w:\n",
    "#                 K[i][w] = max(val[i-1] + K[i-1][w-wt[i-1]], K[i-1][w])\n",
    "#             else:\n",
    "#                 K[i][w] = K[i-1][w]\n",
    "#     return K[n][w]"
   ]
  },
  {
   "cell_type": "code",
   "execution_count": null,
   "id": "b238ca13",
   "metadata": {},
   "outputs": [
    {
     "name": "stderr",
     "output_type": "stream",
     "text": [
      "knapPI_1_5000_1000_1: 100%|██████████| 5000/5000 [00:01<00:00, 4019.84it/s]\n",
      "knapPI_2_100_1000_1: 100%|██████████| 100/100 [00:00<00:00, 738.55it/s]\n",
      "knapPI_2_2000_1000_1:   0%|          | 0/2000 [00:00<?, ?it/s]"
     ]
    },
    {
     "name": "stdout",
     "output_type": "stream",
     "text": [
      "----knapPI_1_5000_1000_1 Decision Result----\n",
      "4818\n",
      "4648\n",
      "4544\n",
      "4512\n",
      "4487\n",
      "4152\n",
      "4131\n",
      "4026\n",
      "3795\n",
      "3675\n",
      "3599\n",
      "3584\n",
      "3562\n",
      "3477\n",
      "3398\n",
      "3364\n",
      "3216\n",
      "3215\n",
      "3180\n",
      "3032\n",
      "2966\n",
      "2896\n",
      "2744\n",
      "2720\n",
      "2504\n",
      "2365\n",
      "1904\n",
      "1457\n",
      "1361\n",
      "1322\n",
      "1143\n",
      "830\n",
      "603\n",
      "599\n",
      "216\n",
      "121\n",
      "10\n",
      "----knapPI_2_100_1000_1 Decision Result----\n",
      "84\n",
      "70\n",
      "56\n",
      "44\n",
      "37\n",
      "23\n",
      "10\n"
     ]
    },
    {
     "name": "stderr",
     "output_type": "stream",
     "text": [
      "knapPI_2_2000_1000_1: 100%|██████████| 2000/2000 [00:02<00:00, 924.70it/s]\n",
      "knapPI_3_200_1000_1: 100%|██████████| 200/200 [00:00<00:00, 2596.76it/s]\n",
      "knapPI_1_500_1000_1:   4%|▍         | 20/501 [00:00<00:02, 198.72it/s]"
     ]
    },
    {
     "name": "stdout",
     "output_type": "stream",
     "text": [
      "----knapPI_2_2000_1000_1 Decision Result----\n",
      "1729\n",
      "1507\n",
      "1485\n",
      "1457\n",
      "1419\n",
      "1400\n",
      "1361\n",
      "1322\n",
      "1260\n",
      "1143\n",
      "1117\n",
      "1099\n",
      "1048\n",
      "945\n",
      "845\n",
      "830\n",
      "743\n",
      "732\n",
      "657\n",
      "643\n",
      "603\n",
      "599\n",
      "539\n",
      "473\n",
      "463\n",
      "426\n",
      "421\n",
      "269\n",
      "249\n",
      "245\n",
      "----knapPI_3_200_1000_1 Decision Result----\n",
      "169\n",
      "157\n",
      "147\n",
      "96\n",
      "89\n",
      "46\n",
      "29\n",
      "20\n",
      "12\n"
     ]
    },
    {
     "name": "stderr",
     "output_type": "stream",
     "text": [
      "knapPI_1_500_1000_1: 100%|██████████| 501/501 [00:02<00:00, 193.13it/s]\n",
      "knapPI_1_200_1000_1: 100%|██████████| 200/200 [00:00<00:00, 4223.06it/s]\n",
      "knapPI_1_10000_1000_1:   2%|▏         | 169/10000 [00:00<00:05, 1684.76it/s]"
     ]
    },
    {
     "name": "stdout",
     "output_type": "stream",
     "text": [
      "----knapPI_1_500_1000_1 Decision Result----\n",
      "494\n",
      "493\n",
      "480\n",
      "476\n",
      "473\n",
      "469\n",
      "463\n",
      "446\n",
      "426\n",
      "421\n",
      "419\n",
      "382\n",
      "379\n",
      "373\n",
      "362\n",
      "347\n",
      "334\n",
      "281\n",
      "273\n",
      "269\n",
      "254\n",
      "249\n",
      "216\n",
      "215\n",
      "151\n",
      "147\n",
      "146\n",
      "137\n",
      "134\n",
      "121\n",
      "60\n",
      "53\n",
      "48\n",
      "38\n",
      "37\n",
      "32\n",
      "25\n",
      "23\n",
      "13\n",
      "12\n",
      "10\n",
      "6\n",
      "----knapPI_1_200_1000_1 Decision Result----\n",
      "146\n",
      "134\n",
      "121\n",
      "53\n",
      "48\n",
      "10\n",
      "6\n"
     ]
    },
    {
     "name": "stderr",
     "output_type": "stream",
     "text": [
      "knapPI_1_10000_1000_1: 100%|██████████| 10000/10000 [00:05<00:00, 1723.26it/s]\n",
      "knapPI_1_2000_1000_1:  18%|█▊        | 359/2000 [00:00<00:00, 1795.98it/s]"
     ]
    },
    {
     "name": "stdout",
     "output_type": "stream",
     "text": [
      "----knapPI_1_10000_1000_1 Decision Result----\n",
      "9559\n",
      "9346\n",
      "9272\n",
      "9164\n",
      "9094\n",
      "8774\n",
      "8773\n",
      "8660\n",
      "8579\n",
      "8557\n",
      "8238\n",
      "8110\n",
      "7915\n",
      "7875\n",
      "7810\n",
      "7510\n",
      "7327\n",
      "7117\n",
      "7068\n",
      "7019\n",
      "6644\n",
      "6526\n",
      "6376\n",
      "6347\n",
      "6307\n",
      "6107\n",
      "6096\n",
      "6025\n",
      "5882\n",
      "5693\n",
      "5496\n",
      "5407\n",
      "5274\n",
      "5136\n",
      "5101\n",
      "5079\n",
      "5068\n",
      "5042\n",
      "5008\n",
      "4818\n",
      "4648\n",
      "4544\n",
      "4512\n",
      "4487\n",
      "4152\n",
      "4131\n",
      "4026\n",
      "3795\n",
      "3675\n",
      "3599\n",
      "3584\n",
      "3562\n",
      "3477\n",
      "3398\n",
      "3364\n",
      "3216\n",
      "3215\n",
      "3180\n",
      "3032\n",
      "2966\n",
      "2896\n",
      "2744\n",
      "2720\n",
      "2504\n",
      "2365\n",
      "1904\n",
      "1457\n",
      "1361\n",
      "1322\n",
      "1143\n",
      "830\n",
      "732\n",
      "603\n",
      "599\n",
      "216\n",
      "121\n",
      "10\n"
     ]
    },
    {
     "name": "stderr",
     "output_type": "stream",
     "text": [
      "knapPI_1_2000_1000_1: 100%|██████████| 2000/2000 [00:01<00:00, 1775.94it/s]\n",
      "knapPI_3_1000_1000_1:  27%|██▋       | 272/1000 [00:00<00:00, 2716.76it/s]"
     ]
    },
    {
     "name": "stdout",
     "output_type": "stream",
     "text": [
      "----knapPI_1_2000_1000_1 Decision Result----\n",
      "1904\n",
      "1873\n",
      "1729\n",
      "1716\n",
      "1672\n",
      "1604\n",
      "1473\n",
      "1472\n",
      "1457\n",
      "1361\n",
      "1333\n",
      "1322\n",
      "1143\n",
      "1057\n",
      "1048\n",
      "830\n",
      "732\n",
      "657\n",
      "603\n",
      "599\n",
      "426\n",
      "419\n",
      "379\n",
      "347\n",
      "216\n",
      "146\n",
      "121\n",
      "10\n"
     ]
    },
    {
     "name": "stderr",
     "output_type": "stream",
     "text": [
      "knapPI_3_1000_1000_1: 100%|██████████| 1000/1000 [00:00<00:00, 2684.89it/s]\n",
      "knapPI_2_5000_1000_1:   6%|▌         | 281/5000 [00:00<00:03, 1404.56it/s]"
     ]
    },
    {
     "name": "stdout",
     "output_type": "stream",
     "text": [
      "----knapPI_3_1000_1000_1 Decision Result----\n",
      "946\n",
      "926\n",
      "883\n",
      "852\n",
      "838\n",
      "767\n",
      "758\n",
      "757\n",
      "721\n",
      "694\n",
      "668\n",
      "637\n",
      "583\n",
      "490\n",
      "432\n",
      "423\n",
      "323\n",
      "273\n",
      "271\n",
      "242\n",
      "169\n",
      "157\n",
      "29\n",
      "20\n"
     ]
    },
    {
     "name": "stderr",
     "output_type": "stream",
     "text": [
      "knapPI_2_5000_1000_1:  82%|████████▏ | 4079/5000 [00:02<00:00, 1372.16it/s]"
     ]
    }
   ],
   "source": [
    "values = []\n",
    "time_log = []\n",
    "for file in listdir(PATH):\n",
    "    start_time = time.time()\n",
    "    with open(PATH + file, 'r') as f:\n",
    "        data = f.read().split(\"\\n\")\n",
    "        data = [[int(k) for k in x.split(' ')] for x in data[:-1]]\n",
    "        capacity = data[-1][0]\n",
    "        data = data[1:-1]\n",
    "    val = [x[0] for x in data]\n",
    "    wt = [x[1] for x in data]\n",
    "    n = len(val)\n",
    "    values.append(knapSack(capacity, wt, val, n))\n",
    "    time_log.append(time.time() - start_time)"
   ]
  },
  {
   "cell_type": "code",
   "execution_count": null,
   "id": "7ac0c589",
   "metadata": {},
   "outputs": [],
   "source": [
    "# time_log = sorted(list(zip(listdir(PATH), time_log)), key=lambda x:int(x[0].split('_')[2]))\n",
    "# [print(\"%.3f\"%x) for x in [x[1] for x in sorted(time_log, key=lambda x:int(x[0].split('_')[1]))]]"
   ]
  },
  {
   "cell_type": "code",
   "execution_count": null,
   "id": "78dbac86",
   "metadata": {},
   "outputs": [],
   "source": [
    "# result = sorted(list(zip(listdir(PATH), values)), key=lambda x:int(x[0].split('_')[2]))\n",
    "# [print(x[1]) for x in sorted(result, key=lambda x:int(x[0].split('_')[1]))]"
   ]
  }
 ],
 "metadata": {
  "kernelspec": {
   "display_name": "Python 3",
   "language": "python",
   "name": "python3"
  },
  "language_info": {
   "codemirror_mode": {
    "name": "ipython",
    "version": 3
   },
   "file_extension": ".py",
   "mimetype": "text/x-python",
   "name": "python",
   "nbconvert_exporter": "python",
   "pygments_lexer": "ipython3",
   "version": "3.9.2"
  },
  "toc": {
   "base_numbering": 1,
   "nav_menu": {},
   "number_sections": false,
   "sideBar": true,
   "skip_h1_title": false,
   "title_cell": "Table of Contents",
   "title_sidebar": "Contents",
   "toc_cell": false,
   "toc_position": {},
   "toc_section_display": true,
   "toc_window_display": false
  },
  "vscode": {
   "interpreter": {
    "hash": "aee8b7b246df8f9039afb4144a1f6fd8d2ca17a180786b69acc140d282b71a49"
   }
  }
 },
 "nbformat": 4,
 "nbformat_minor": 5
}
