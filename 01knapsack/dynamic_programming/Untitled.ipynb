{
 "cells": [
  {
   "cell_type": "code",
   "execution_count": 16,
   "id": "9ecc9b4d",
   "metadata": {},
   "outputs": [],
   "source": [
    "from os import listdir\n",
    "from tqdm import tqdm\n",
    "import time"
   ]
  },
  {
   "cell_type": "code",
   "execution_count": 17,
   "id": "66c3e2bc",
   "metadata": {},
   "outputs": [],
   "source": [
    "PATH = \"/Users/chuanyu/Code/CSE-5707-optimization/01knapsack/data/large_scale/\""
   ]
  },
  {
   "cell_type": "code",
   "execution_count": 18,
   "id": "419f3e0b",
   "metadata": {},
   "outputs": [],
   "source": [
    "def knapSack(W, wt, val, n):\n",
    "    K = [[0 for x in range(W + 1)] for x in range(n + 1)]\n",
    "  \n",
    "    for i in tqdm(range(n + 1), file):\n",
    "        for w in range(W + 1):\n",
    "            if i == 0 or w == 0:\n",
    "                K[i][w] = 0\n",
    "            elif wt[i-1] <= w:\n",
    "                K[i][w] = max(val[i-1] + K[i-1][w-wt[i-1]],  K[i-1][w])\n",
    "            else:\n",
    "                K[i][w] = K[i-1][w]\n",
    "  \n",
    "    return K[n][W]"
   ]
  },
  {
   "cell_type": "code",
   "execution_count": 19,
   "id": "119498cb",
   "metadata": {},
   "outputs": [
    {
     "name": "stderr",
     "output_type": "stream",
     "text": [
      "knapPI_1_5000_1000_1: 100%|██████████| 5001/5001 [00:35<00:00, 141.58it/s]\n",
      "knapPI_2_100_1000_1: 100%|██████████| 101/101 [00:00<00:00, 5640.21it/s]\n",
      "knapPI_2_2000_1000_1: 100%|██████████| 2001/2001 [00:05<00:00, 363.13it/s]\n",
      "knapPI_3_200_1000_1: 100%|██████████| 201/201 [00:00<00:00, 5596.38it/s]\n",
      "knapPI_1_500_1000_1: 100%|██████████| 501/501 [00:00<00:00, 1636.23it/s]\n",
      "knapPI_1_200_1000_1: 100%|██████████| 201/201 [00:00<00:00, 5496.44it/s]\n",
      "knapPI_1_10000_1000_1: 100%|██████████| 10001/10001 [02:23<00:00, 69.71it/s]\n",
      "knapPI_1_2000_1000_1: 100%|██████████| 2001/2001 [00:05<00:00, 359.32it/s]\n",
      "knapPI_3_1000_1000_1: 100%|██████████| 1001/1001 [00:01<00:00, 754.41it/s]\n",
      "knapPI_2_5000_1000_1: 100%|██████████| 5001/5001 [00:35<00:00, 140.27it/s]\n",
      "knapPI_3_500_1000_1: 100%|██████████| 501/501 [00:00<00:00, 1641.00it/s]\n",
      "knapPI_2_10000_1000_1: 100%|██████████| 10001/10001 [02:25<00:00, 68.86it/s]\n",
      "knapPI_3_2000_1000_1: 100%|██████████| 2001/2001 [00:05<00:00, 363.87it/s]\n",
      "knapPI_3_100_1000_1: 100%|██████████| 101/101 [00:00<00:00, 5637.66it/s]\n",
      "knapPI_1_1000_1000_1: 100%|██████████| 1001/1001 [00:01<00:00, 745.21it/s]\n",
      "knapPI_3_10000_1000_1: 100%|██████████| 10001/10001 [02:23<00:00, 69.48it/s]\n",
      "knapPI_2_200_1000_1: 100%|██████████| 201/201 [00:00<00:00, 4819.63it/s]\n",
      "knapPI_3_5000_1000_1: 100%|██████████| 5001/5001 [00:35<00:00, 139.13it/s]\n",
      "knapPI_2_1000_1000_1: 100%|██████████| 1001/1001 [00:01<00:00, 746.29it/s]\n",
      "knapPI_2_500_1000_1: 100%|██████████| 501/501 [00:00<00:00, 1606.47it/s]\n",
      "knapPI_1_100_1000_1: 100%|██████████| 101/101 [00:00<00:00, 5550.06it/s]\n"
     ]
    }
   ],
   "source": [
    "values = []\n",
    "time_log = []\n",
    "for file in listdir(PATH):\n",
    "    start_time = time.time()\n",
    "    with open(PATH + file, 'r') as f:\n",
    "        data = f.read().split(\"\\n\")\n",
    "        data = [[int(k) for k in x.split(' ')] for x in data[:-1]]\n",
    "        capacity = data[0][1]\n",
    "        data = data[1:]\n",
    "    val = [x[0] for x in data]\n",
    "    wt = [x[1] for x in data]\n",
    "    n = len(val)\n",
    "    values.append(knapSack(capacity, wt, val, n))\n",
    "    time_log.append(time.time() - start_time)"
   ]
  },
  {
   "cell_type": "code",
   "execution_count": 21,
   "id": "7cf43e29",
   "metadata": {},
   "outputs": [
    {
     "name": "stdout",
     "output_type": "stream",
     "text": [
      "0.021\n",
      "0.041\n",
      "0.329\n",
      "1.433\n",
      "5.923\n",
      "37.996\n",
      "154.860\n",
      "0.021\n",
      "0.050\n",
      "0.337\n",
      "1.439\n",
      "5.875\n",
      "37.990\n",
      "157.242\n",
      "0.021\n",
      "0.041\n",
      "0.331\n",
      "1.418\n",
      "5.868\n",
      "38.697\n",
      "155.175\n"
     ]
    },
    {
     "data": {
      "text/plain": [
       "[None,\n",
       " None,\n",
       " None,\n",
       " None,\n",
       " None,\n",
       " None,\n",
       " None,\n",
       " None,\n",
       " None,\n",
       " None,\n",
       " None,\n",
       " None,\n",
       " None,\n",
       " None,\n",
       " None,\n",
       " None,\n",
       " None,\n",
       " None,\n",
       " None,\n",
       " None,\n",
       " None]"
      ]
     },
     "execution_count": 21,
     "metadata": {},
     "output_type": "execute_result"
    }
   ],
   "source": [
    "time_log = sorted(list(zip(listdir(PATH), time_log)), key=lambda x:int(x[0].split('_')[2]))\n",
    "[print(\"%.3f\"%x) for x in [x[1] for x in sorted(time_log, key=lambda x:int(x[0].split('_')[1]))]]"
   ]
  },
  {
   "cell_type": "code",
   "execution_count": null,
   "id": "f87ae8ce",
   "metadata": {},
   "outputs": [],
   "source": []
  }
 ],
 "metadata": {
  "kernelspec": {
   "display_name": "Python 3",
   "language": "python",
   "name": "python3"
  },
  "language_info": {
   "codemirror_mode": {
    "name": "ipython",
    "version": 3
   },
   "file_extension": ".py",
   "mimetype": "text/x-python",
   "name": "python",
   "nbconvert_exporter": "python",
   "pygments_lexer": "ipython3",
   "version": "3.9.2"
  },
  "toc": {
   "base_numbering": 1,
   "nav_menu": {},
   "number_sections": false,
   "sideBar": true,
   "skip_h1_title": false,
   "title_cell": "Table of Contents",
   "title_sidebar": "Contents",
   "toc_cell": false,
   "toc_position": {},
   "toc_section_display": true,
   "toc_window_display": false
  }
 },
 "nbformat": 4,
 "nbformat_minor": 5
}
