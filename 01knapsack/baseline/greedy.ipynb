{
 "cells": [
  {
   "cell_type": "code",
   "execution_count": 47,
   "id": "12553061",
   "metadata": {},
   "outputs": [],
   "source": [
    "from os import listdir\n",
    "import time"
   ]
  },
  {
   "cell_type": "code",
   "execution_count": 48,
   "id": "c3b277b6",
   "metadata": {},
   "outputs": [],
   "source": [
    "PATH = \"/Users/chuanyu/Code/CSE-5707-optimization/01knapsack/data/large_scale/\""
   ]
  },
  {
   "cell_type": "code",
   "execution_count": 50,
   "id": "b94f2dd5",
   "metadata": {},
   "outputs": [],
   "source": [
    "values = []\n",
    "time_log = []\n",
    "for file in listdir(PATH):\n",
    "    start_time = time.time()\n",
    "    with open(PATH + file, 'r') as f:\n",
    "        data = f.read().split(\"\\n\")\n",
    "        data = [[int(k) for k in x.split(' ')] for x in data[:-1]]\n",
    "        capacity = data[0][1]\n",
    "        data = data[1:]\n",
    "    data = sorted(data, key= lambda x:x[0]/x[1], reverse=True)\n",
    "    value = 0\n",
    "    weight = 0\n",
    "    result = []\n",
    "    for row in data:\n",
    "        if weight + row[1] <= capacity:\n",
    "            value += row[0]\n",
    "            weight += row[1]\n",
    "            result.append(1)\n",
    "        else:\n",
    "            result.append(0)\n",
    "        result += [0] * (len(data) - len(result))\n",
    "    values.append(value)\n",
    "    time_log.append(time.time() - start_time)"
   ]
  },
  {
   "cell_type": "code",
   "execution_count": 53,
   "id": "4739b200",
   "metadata": {},
   "outputs": [
    {
     "data": {
      "text/plain": [
       "['knapPI_1_5000_1000_1',\n",
       " 'knapPI_2_100_1000_1',\n",
       " 'knapPI_2_2000_1000_1',\n",
       " 'knapPI_3_200_1000_1',\n",
       " 'knapPI_1_500_1000_1',\n",
       " 'knapPI_1_200_1000_1',\n",
       " 'knapPI_1_10000_1000_1',\n",
       " 'knapPI_1_2000_1000_1',\n",
       " 'knapPI_3_1000_1000_1',\n",
       " 'knapPI_2_5000_1000_1',\n",
       " 'knapPI_3_500_1000_1',\n",
       " 'knapPI_2_10000_1000_1',\n",
       " 'knapPI_3_2000_1000_1',\n",
       " 'knapPI_3_100_1000_1',\n",
       " 'knapPI_1_1000_1000_1',\n",
       " 'knapPI_3_10000_1000_1',\n",
       " 'knapPI_2_200_1000_1',\n",
       " 'knapPI_3_5000_1000_1',\n",
       " 'knapPI_2_1000_1000_1',\n",
       " 'knapPI_2_500_1000_1',\n",
       " 'knapPI_1_100_1000_1']"
      ]
     },
     "execution_count": 53,
     "metadata": {},
     "output_type": "execute_result"
    }
   ],
   "source": []
  },
  {
   "cell_type": "code",
   "execution_count": 58,
   "id": "c5ef16e7",
   "metadata": {},
   "outputs": [
    {
     "data": {
      "text/plain": [
       "[('knapPI_1_100_1000_1', 8817),\n",
       " ('knapPI_1_200_1000_1', 11227),\n",
       " ('knapPI_1_500_1000_1', 28834),\n",
       " ('knapPI_1_1000_1000_1', 54386),\n",
       " ('knapPI_1_2000_1000_1', 110547),\n",
       " ('knapPI_1_5000_1000_1', 276379),\n",
       " ('knapPI_1_10000_1000_1', 563605),\n",
       " ('knapPI_2_100_1000_1', 1487),\n",
       " ('knapPI_2_200_1000_1', 1604),\n",
       " ('knapPI_2_500_1000_1', 4552),\n",
       " ('knapPI_2_1000_1000_1', 9046),\n",
       " ('knapPI_2_2000_1000_1', 18038),\n",
       " ('knapPI_2_5000_1000_1', 44351),\n",
       " ('knapPI_2_10000_1000_1', 90200),\n",
       " ('knapPI_3_100_1000_1', 2375),\n",
       " ('knapPI_3_200_1000_1', 2649),\n",
       " ('knapPI_3_500_1000_1', 7098),\n",
       " ('knapPI_3_1000_1000_1', 14374),\n",
       " ('knapPI_3_2000_1000_1', 28827),\n",
       " ('knapPI_3_5000_1000_1', 72446),\n",
       " ('knapPI_3_10000_1000_1', 146888)]"
      ]
     },
     "execution_count": 58,
     "metadata": {},
     "output_type": "execute_result"
    }
   ],
   "source": [
    "result = sorted(list(zip(listdir(PATH), values)), key=lambda x:int(x[0].split('_')[2]))\n",
    "\n",
    "sorted(result, key=lambda x:int(x[0].split('_')[1]))"
   ]
  },
  {
   "cell_type": "code",
   "execution_count": 59,
   "id": "d9a6e306",
   "metadata": {},
   "outputs": [
    {
     "data": {
      "text/plain": [
       "[8817,\n",
       " 11227,\n",
       " 28834,\n",
       " 54386,\n",
       " 110547,\n",
       " 276379,\n",
       " 563605,\n",
       " 1487,\n",
       " 1604,\n",
       " 4552,\n",
       " 9046,\n",
       " 18038,\n",
       " 44351,\n",
       " 90200,\n",
       " 2375,\n",
       " 2649,\n",
       " 7098,\n",
       " 14374,\n",
       " 28827,\n",
       " 72446,\n",
       " 146888]"
      ]
     },
     "execution_count": 59,
     "metadata": {},
     "output_type": "execute_result"
    }
   ],
   "source": [
    "[x[1] for x in sorted(result, key=lambda x:int(x[0].split('_')[1]))]"
   ]
  },
  {
   "cell_type": "code",
   "execution_count": null,
   "id": "33361d38",
   "metadata": {},
   "outputs": [],
   "source": []
  }
 ],
 "metadata": {
  "kernelspec": {
   "display_name": "Python 3",
   "language": "python",
   "name": "python3"
  },
  "language_info": {
   "codemirror_mode": {
    "name": "ipython",
    "version": 3
   },
   "file_extension": ".py",
   "mimetype": "text/x-python",
   "name": "python",
   "nbconvert_exporter": "python",
   "pygments_lexer": "ipython3",
   "version": "3.9.2"
  },
  "toc": {
   "base_numbering": 1,
   "nav_menu": {},
   "number_sections": false,
   "sideBar": true,
   "skip_h1_title": false,
   "title_cell": "Table of Contents",
   "title_sidebar": "Contents",
   "toc_cell": false,
   "toc_position": {},
   "toc_section_display": true,
   "toc_window_display": false
  }
 },
 "nbformat": 4,
 "nbformat_minor": 5
}
