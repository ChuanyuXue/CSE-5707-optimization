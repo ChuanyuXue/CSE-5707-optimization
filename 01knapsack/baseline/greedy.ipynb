{
 "cells": [
  {
   "cell_type": "code",
   "execution_count": 69,
   "id": "12553061",
   "metadata": {},
   "outputs": [],
   "source": [
    "from os import listdir\n",
    "import time"
   ]
  },
  {
   "cell_type": "code",
   "execution_count": 70,
   "id": "c3b277b6",
   "metadata": {},
   "outputs": [],
   "source": [
    "PATH = \"/Users/chuanyu/Code/CSE-5707-optimization/01knapsack/data/large_scale/\""
   ]
  },
  {
   "cell_type": "code",
   "execution_count": 71,
   "id": "b94f2dd5",
   "metadata": {},
   "outputs": [],
   "source": [
    "values = []\n",
    "time_log = []\n",
    "for file in listdir(PATH):\n",
    "    start_time = time.time()\n",
    "    with open(PATH + file, 'r') as f:\n",
    "        data = f.read().split(\"\\n\")\n",
    "        data = [[int(k) for k in x.split(' ')] for x in data[:-1]]\n",
    "        capacity = data[0][1]\n",
    "        data = data[1:]\n",
    "    data = sorted(data, key= lambda x:x[0]/x[1], reverse=True)\n",
    "    value = 0\n",
    "    weight = 0\n",
    "    result = []\n",
    "    for row in data:\n",
    "        if weight + row[1] <= capacity:\n",
    "            value += row[0]\n",
    "            weight += row[1]\n",
    "            result.append(1)\n",
    "        else:\n",
    "            result.append(0)\n",
    "        result += [0] * (len(data) - len(result))\n",
    "    values.append(value)\n",
    "    time_log.append(time.time() - start_time)"
   ]
  },
  {
   "cell_type": "code",
   "execution_count": 72,
   "id": "698bb330",
   "metadata": {},
   "outputs": [
    {
     "name": "stdout",
     "output_type": "stream",
     "text": [
      "0.000\n",
      "0.001\n",
      "0.001\n",
      "0.001\n",
      "0.004\n",
      "0.018\n",
      "0.019\n",
      "0.001\n",
      "0.000\n",
      "0.000\n",
      "0.001\n",
      "0.003\n",
      "0.007\n",
      "0.012\n",
      "0.000\n",
      "0.001\n",
      "0.001\n",
      "0.002\n",
      "0.003\n",
      "0.004\n",
      "0.009\n",
      "8817\n",
      "11227\n",
      "28834\n",
      "54386\n",
      "110547\n",
      "276379\n",
      "563605\n",
      "1487\n",
      "1604\n",
      "4552\n",
      "9046\n",
      "18038\n",
      "44351\n",
      "90200\n",
      "2375\n",
      "2649\n",
      "7098\n",
      "14374\n",
      "28827\n",
      "72446\n",
      "146888\n"
     ]
    },
    {
     "data": {
      "text/plain": [
       "[None,\n",
       " None,\n",
       " None,\n",
       " None,\n",
       " None,\n",
       " None,\n",
       " None,\n",
       " None,\n",
       " None,\n",
       " None,\n",
       " None,\n",
       " None,\n",
       " None,\n",
       " None,\n",
       " None,\n",
       " None,\n",
       " None,\n",
       " None,\n",
       " None,\n",
       " None,\n",
       " None]"
      ]
     },
     "execution_count": 72,
     "metadata": {},
     "output_type": "execute_result"
    }
   ],
   "source": [
    "time_log = sorted(list(zip(listdir(PATH), time_log)), key=lambda x:int(x[0].split('_')[2]))\n",
    "[print(\"%.3f\"%x) for x in [x[1] for x in sorted(time_log, key=lambda x:int(x[0].split('_')[1]))]]\n",
    "\n",
    "result = sorted(list(zip(listdir(PATH), values)), key=lambda x:int(x[0].split('_')[2]))\n",
    "[print(x[1]) for x in sorted(result, key=lambda x:int(x[0].split('_')[1]))]"
   ]
  },
  {
   "cell_type": "code",
   "execution_count": null,
   "id": "33361d38",
   "metadata": {},
   "outputs": [],
   "source": []
  }
 ],
 "metadata": {
  "kernelspec": {
   "display_name": "Python 3",
   "language": "python",
   "name": "python3"
  },
  "language_info": {
   "codemirror_mode": {
    "name": "ipython",
    "version": 3
   },
   "file_extension": ".py",
   "mimetype": "text/x-python",
   "name": "python",
   "nbconvert_exporter": "python",
   "pygments_lexer": "ipython3",
   "version": "3.9.2"
  },
  "toc": {
   "base_numbering": 1,
   "nav_menu": {},
   "number_sections": false,
   "sideBar": true,
   "skip_h1_title": false,
   "title_cell": "Table of Contents",
   "title_sidebar": "Contents",
   "toc_cell": false,
   "toc_position": {},
   "toc_section_display": true,
   "toc_window_display": false
  }
 },
 "nbformat": 4,
 "nbformat_minor": 5
}
