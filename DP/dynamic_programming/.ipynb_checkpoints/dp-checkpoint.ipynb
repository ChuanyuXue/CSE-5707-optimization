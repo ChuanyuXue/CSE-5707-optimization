{
 "cells": [
  {
   "cell_type": "code",
   "execution_count": 11,
   "id": "bb4cc885",
   "metadata": {},
   "outputs": [],
   "source": [
    "from os import listdir\n",
    "from tqdm import tqdm\n",
    "import time"
   ]
  },
  {
   "cell_type": "code",
   "execution_count": 12,
   "id": "1663f124",
   "metadata": {},
   "outputs": [],
   "source": [
    "PATH = \"/Users/chuanyu/Code/CSE-5707-optimization/01knapsack/data/low-dimensional/\"\n",
    "# PATH = \"/Users/chuanyu/Code/CSE-5707-optimization/01knapsack/data/large_scale/\"\n",
    "# PATH = \"/Users/chuanyu/Code/CSE-5707-optimization/01knapsack/data/customized_dataset/\""
   ]
  },
  {
   "cell_type": "code",
   "execution_count": 13,
   "id": "032da98a",
   "metadata": {},
   "outputs": [],
   "source": [
    "def knapSack(W, wt, val, n):\n",
    "    K = [[0 for x in range(W + 1)] for x in range(n + 1)]\n",
    "    if W == 269:\n",
    "        print(wt, val)\n",
    "  \n",
    "    for i in tqdm(range(n + 1), file):\n",
    "        for w in range(W + 1):\n",
    "            if i == 0 or w == 0:\n",
    "                K[i][w] = 0\n",
    "            elif wt[i-1] <= w:\n",
    "                K[i][w] = max(val[i-1] + K[i-1][w-wt[i-1]],  K[i-1][w])\n",
    "            else:\n",
    "                K[i][w] = K[i-1][w]\n",
    "    \n",
    "        #         for each in K:\n",
    "#             print(each)\n",
    "#     OUTPUT THE PATH      \n",
    "#     print(file + '--------')\n",
    "#     w = W\n",
    "#     res = K[n][W]\n",
    "#     for i in range(n, 0, -1):\n",
    "#         if res <= 0:\n",
    "#             break\n",
    "#         if res == K[i - 1][w]:\n",
    "#             continue\n",
    "#         else:\n",
    "#             print(i - 1)\n",
    "#             res = res - val[i - 1]\n",
    "#             w = w - wt[i - 1]\n",
    "    return K[n][w]"
   ]
  },
  {
   "cell_type": "code",
   "execution_count": 14,
   "id": "b238ca13",
   "metadata": {
    "scrolled": true
   },
   "outputs": [
    {
     "name": "stderr",
     "output_type": "stream",
     "text": [
      "f9_l-d_kp_5_80: 100%|███████████████████████████████████████████████████████████████| 5/5 [00:00<00:00, 12921.45it/s]\n",
      "f7_l-d_kp_7_50: 100%|███████████████████████████████████████████████████████████████| 7/7 [00:00<00:00, 25332.29it/s]\n",
      "f3_l-d_kp_4_20: 100%|███████████████████████████████████████████████████████████████| 4/4 [00:00<00:00, 43018.50it/s]\n",
      "f4_l-d_kp_4_11: 100%|███████████████████████████████████████████████████████████████| 4/4 [00:00<00:00, 78398.21it/s]\n",
      "f10_l-d_kp_20_879: 100%|███████████████████████████████████████████████████████████| 20/20 [00:00<00:00, 3428.12it/s]\n",
      "f1_l-d_kp_10_269: 100%|███████████████████████████████████████████████████████████| 10/10 [00:00<00:00, 13189.64it/s]\n"
     ]
    },
    {
     "name": "stdout",
     "output_type": "stream",
     "text": [
      "[95, 4, 60, 32, 23, 72, 80, 62, 65] [55, 10, 47, 5, 4, 50, 8, 61, 85]\n"
     ]
    },
    {
     "name": "stderr",
     "output_type": "stream",
     "text": [
      "f6_l-d_kp_10_60: 100%|████████████████████████████████████████████████████████████| 10/10 [00:00<00:00, 49228.92it/s]\n",
      "f8_l-d_kp_23_10000: 100%|███████████████████████████████████████████████████████████| 23/23 [00:00<00:00, 316.59it/s]\n",
      "f2_l-d_kp_20_878: 100%|████████████████████████████████████████████████████████████| 20/20 [00:00<00:00, 3456.23it/s]\n"
     ]
    }
   ],
   "source": [
    "values = []\n",
    "time_log = []\n",
    "\n",
    "for file in listdir(PATH):\n",
    "    start_time = time.time()\n",
    "    with open(PATH + file, 'r') as f:\n",
    "        data = f.read().split(\"\\n\")\n",
    "        data = [[int(k) for k in x.split(' ')] for x in data[:-1]]\n",
    "        capacity = data[0][1]\n",
    "        data = data[1:]\n",
    "    val = [x[0] for x in data]\n",
    "    wt = [x[1] for x in data]\n",
    "    n = len(val)\n",
    "    values.append(knapSack(capacity, wt, val, n))\n",
    "    time_log.append(time.time() - start_time)"
   ]
  },
  {
   "cell_type": "code",
   "execution_count": null,
   "id": "89576bc7",
   "metadata": {},
   "outputs": [],
   "source": [
    "55 95\n",
    "10 4\n",
    "47 60\n",
    "5 32\n",
    "4 23\n",
    "50 72\n",
    "8 80\n",
    "61 62\n",
    "85 65\n",
    "87 46\n",
    "-1229127667 55"
   ]
  },
  {
   "cell_type": "code",
   "execution_count": 10,
   "id": "c5d7a6e4",
   "metadata": {
    "scrolled": true
   },
   "outputs": [],
   "source": [
    "# list(zip(listdir(PATH), time_log))"
   ]
  },
  {
   "cell_type": "code",
   "execution_count": 16,
   "id": "2c6db258",
   "metadata": {},
   "outputs": [
    {
     "data": {
      "text/plain": [
       "[('f9_l-d_kp_5_80', 130),\n",
       " ('f7_l-d_kp_7_50', 107),\n",
       " ('f3_l-d_kp_4_20', 33),\n",
       " ('f4_l-d_kp_4_11', 22),\n",
       " ('f10_l-d_kp_20_879', 1010),\n",
       " ('f1_l-d_kp_10_269', 253),\n",
       " ('f6_l-d_kp_10_60', 52),\n",
       " ('f8_l-d_kp_23_10000', 9767),\n",
       " ('f2_l-d_kp_20_878', 990)]"
      ]
     },
     "execution_count": 16,
     "metadata": {},
     "output_type": "execute_result"
    }
   ],
   "source": [
    "list(zip(listdir(PATH), values))"
   ]
  },
  {
   "cell_type": "code",
   "execution_count": 11,
   "id": "7ac0c589",
   "metadata": {},
   "outputs": [
    {
     "ename": "ValueError",
     "evalue": "invalid literal for int() with base 10: 'kp'",
     "output_type": "error",
     "traceback": [
      "\u001b[0;31m---------------------------------------------------------------------------\u001b[0m",
      "\u001b[0;31mValueError\u001b[0m                                Traceback (most recent call last)",
      "Input \u001b[0;32mIn [11]\u001b[0m, in \u001b[0;36m<cell line: 1>\u001b[0;34m()\u001b[0m\n\u001b[0;32m----> 1\u001b[0m time_log \u001b[38;5;241m=\u001b[39m \u001b[38;5;28;43msorted\u001b[39;49m\u001b[43m(\u001b[49m\u001b[38;5;28;43mlist\u001b[39;49m\u001b[43m(\u001b[49m\u001b[38;5;28;43mzip\u001b[39;49m\u001b[43m(\u001b[49m\u001b[43mlistdir\u001b[49m\u001b[43m(\u001b[49m\u001b[43mPATH\u001b[49m\u001b[43m)\u001b[49m\u001b[43m,\u001b[49m\u001b[43m \u001b[49m\u001b[43mtime_log\u001b[49m\u001b[43m)\u001b[49m\u001b[43m)\u001b[49m\u001b[43m,\u001b[49m\u001b[43m \u001b[49m\u001b[43mkey\u001b[49m\u001b[38;5;241;43m=\u001b[39;49m\u001b[38;5;28;43;01mlambda\u001b[39;49;00m\u001b[43m \u001b[49m\u001b[43mx\u001b[49m\u001b[43m:\u001b[49m\u001b[38;5;28;43mint\u001b[39;49m\u001b[43m(\u001b[49m\u001b[43mx\u001b[49m\u001b[43m[\u001b[49m\u001b[38;5;241;43m0\u001b[39;49m\u001b[43m]\u001b[49m\u001b[38;5;241;43m.\u001b[39;49m\u001b[43msplit\u001b[49m\u001b[43m(\u001b[49m\u001b[38;5;124;43m'\u001b[39;49m\u001b[38;5;124;43m_\u001b[39;49m\u001b[38;5;124;43m'\u001b[39;49m\u001b[43m)\u001b[49m\u001b[43m[\u001b[49m\u001b[38;5;241;43m2\u001b[39;49m\u001b[43m]\u001b[49m\u001b[43m)\u001b[49m\u001b[43m)\u001b[49m\n\u001b[1;32m      2\u001b[0m [\u001b[38;5;28mprint\u001b[39m(\u001b[38;5;124m\"\u001b[39m\u001b[38;5;132;01m%.3f\u001b[39;00m\u001b[38;5;124m\"\u001b[39m\u001b[38;5;241m%\u001b[39mx) \u001b[38;5;28;01mfor\u001b[39;00m x \u001b[38;5;129;01min\u001b[39;00m [x[\u001b[38;5;241m1\u001b[39m] \u001b[38;5;28;01mfor\u001b[39;00m x \u001b[38;5;129;01min\u001b[39;00m \u001b[38;5;28msorted\u001b[39m(time_log, key\u001b[38;5;241m=\u001b[39m\u001b[38;5;28;01mlambda\u001b[39;00m x:\u001b[38;5;28mint\u001b[39m(x[\u001b[38;5;241m0\u001b[39m]\u001b[38;5;241m.\u001b[39msplit(\u001b[38;5;124m'\u001b[39m\u001b[38;5;124m_\u001b[39m\u001b[38;5;124m'\u001b[39m)[\u001b[38;5;241m1\u001b[39m]))]]\n",
      "Input \u001b[0;32mIn [11]\u001b[0m, in \u001b[0;36m<lambda>\u001b[0;34m(x)\u001b[0m\n\u001b[0;32m----> 1\u001b[0m time_log \u001b[38;5;241m=\u001b[39m \u001b[38;5;28msorted\u001b[39m(\u001b[38;5;28mlist\u001b[39m(\u001b[38;5;28mzip\u001b[39m(listdir(PATH), time_log)), key\u001b[38;5;241m=\u001b[39m\u001b[38;5;28;01mlambda\u001b[39;00m x:\u001b[38;5;28;43mint\u001b[39;49m\u001b[43m(\u001b[49m\u001b[43mx\u001b[49m\u001b[43m[\u001b[49m\u001b[38;5;241;43m0\u001b[39;49m\u001b[43m]\u001b[49m\u001b[38;5;241;43m.\u001b[39;49m\u001b[43msplit\u001b[49m\u001b[43m(\u001b[49m\u001b[38;5;124;43m'\u001b[39;49m\u001b[38;5;124;43m_\u001b[39;49m\u001b[38;5;124;43m'\u001b[39;49m\u001b[43m)\u001b[49m\u001b[43m[\u001b[49m\u001b[38;5;241;43m2\u001b[39;49m\u001b[43m]\u001b[49m\u001b[43m)\u001b[49m)\n\u001b[1;32m      2\u001b[0m [\u001b[38;5;28mprint\u001b[39m(\u001b[38;5;124m\"\u001b[39m\u001b[38;5;132;01m%.3f\u001b[39;00m\u001b[38;5;124m\"\u001b[39m\u001b[38;5;241m%\u001b[39mx) \u001b[38;5;28;01mfor\u001b[39;00m x \u001b[38;5;129;01min\u001b[39;00m [x[\u001b[38;5;241m1\u001b[39m] \u001b[38;5;28;01mfor\u001b[39;00m x \u001b[38;5;129;01min\u001b[39;00m \u001b[38;5;28msorted\u001b[39m(time_log, key\u001b[38;5;241m=\u001b[39m\u001b[38;5;28;01mlambda\u001b[39;00m x:\u001b[38;5;28mint\u001b[39m(x[\u001b[38;5;241m0\u001b[39m]\u001b[38;5;241m.\u001b[39msplit(\u001b[38;5;124m'\u001b[39m\u001b[38;5;124m_\u001b[39m\u001b[38;5;124m'\u001b[39m)[\u001b[38;5;241m1\u001b[39m]))]]\n",
      "\u001b[0;31mValueError\u001b[0m: invalid literal for int() with base 10: 'kp'"
     ]
    }
   ],
   "source": [
    "time_log = sorted(list(zip(listdir(PATH), time_log)), key=lambda x:int(x[0].split('_')[2]))\n",
    "[print(\"%.3f\"%x) for x in [x[1] for x in sorted(time_log, key=lambda x:int(x[0].split('_')[1]))]]"
   ]
  },
  {
   "cell_type": "code",
   "execution_count": 15,
   "id": "78dbac86",
   "metadata": {},
   "outputs": [
    {
     "ename": "ValueError",
     "evalue": "invalid literal for int() with base 10: 'kp'",
     "output_type": "error",
     "traceback": [
      "\u001b[0;31m---------------------------------------------------------------------------\u001b[0m",
      "\u001b[0;31mValueError\u001b[0m                                Traceback (most recent call last)",
      "Input \u001b[0;32mIn [15]\u001b[0m, in \u001b[0;36m<cell line: 1>\u001b[0;34m()\u001b[0m\n\u001b[0;32m----> 1\u001b[0m result \u001b[38;5;241m=\u001b[39m \u001b[38;5;28;43msorted\u001b[39;49m\u001b[43m(\u001b[49m\u001b[38;5;28;43mlist\u001b[39;49m\u001b[43m(\u001b[49m\u001b[38;5;28;43mzip\u001b[39;49m\u001b[43m(\u001b[49m\u001b[43mlistdir\u001b[49m\u001b[43m(\u001b[49m\u001b[43mPATH\u001b[49m\u001b[43m)\u001b[49m\u001b[43m,\u001b[49m\u001b[43m \u001b[49m\u001b[43mvalues\u001b[49m\u001b[43m)\u001b[49m\u001b[43m)\u001b[49m\u001b[43m,\u001b[49m\u001b[43m \u001b[49m\u001b[43mkey\u001b[49m\u001b[38;5;241;43m=\u001b[39;49m\u001b[38;5;28;43;01mlambda\u001b[39;49;00m\u001b[43m \u001b[49m\u001b[43mx\u001b[49m\u001b[43m:\u001b[49m\u001b[38;5;28;43mint\u001b[39;49m\u001b[43m(\u001b[49m\u001b[43mx\u001b[49m\u001b[43m[\u001b[49m\u001b[38;5;241;43m0\u001b[39;49m\u001b[43m]\u001b[49m\u001b[38;5;241;43m.\u001b[39;49m\u001b[43msplit\u001b[49m\u001b[43m(\u001b[49m\u001b[38;5;124;43m'\u001b[39;49m\u001b[38;5;124;43m_\u001b[39;49m\u001b[38;5;124;43m'\u001b[39;49m\u001b[43m)\u001b[49m\u001b[43m[\u001b[49m\u001b[38;5;241;43m2\u001b[39;49m\u001b[43m]\u001b[49m\u001b[43m)\u001b[49m\u001b[43m)\u001b[49m\n\u001b[1;32m      2\u001b[0m [\u001b[38;5;28mprint\u001b[39m(x[\u001b[38;5;241m1\u001b[39m]) \u001b[38;5;28;01mfor\u001b[39;00m x \u001b[38;5;129;01min\u001b[39;00m \u001b[38;5;28msorted\u001b[39m(result, key\u001b[38;5;241m=\u001b[39m\u001b[38;5;28;01mlambda\u001b[39;00m x:\u001b[38;5;28mint\u001b[39m(x[\u001b[38;5;241m0\u001b[39m]\u001b[38;5;241m.\u001b[39msplit(\u001b[38;5;124m'\u001b[39m\u001b[38;5;124m_\u001b[39m\u001b[38;5;124m'\u001b[39m)[\u001b[38;5;241m1\u001b[39m]))]\n",
      "Input \u001b[0;32mIn [15]\u001b[0m, in \u001b[0;36m<lambda>\u001b[0;34m(x)\u001b[0m\n\u001b[0;32m----> 1\u001b[0m result \u001b[38;5;241m=\u001b[39m \u001b[38;5;28msorted\u001b[39m(\u001b[38;5;28mlist\u001b[39m(\u001b[38;5;28mzip\u001b[39m(listdir(PATH), values)), key\u001b[38;5;241m=\u001b[39m\u001b[38;5;28;01mlambda\u001b[39;00m x:\u001b[38;5;28;43mint\u001b[39;49m\u001b[43m(\u001b[49m\u001b[43mx\u001b[49m\u001b[43m[\u001b[49m\u001b[38;5;241;43m0\u001b[39;49m\u001b[43m]\u001b[49m\u001b[38;5;241;43m.\u001b[39;49m\u001b[43msplit\u001b[49m\u001b[43m(\u001b[49m\u001b[38;5;124;43m'\u001b[39;49m\u001b[38;5;124;43m_\u001b[39;49m\u001b[38;5;124;43m'\u001b[39;49m\u001b[43m)\u001b[49m\u001b[43m[\u001b[49m\u001b[38;5;241;43m2\u001b[39;49m\u001b[43m]\u001b[49m\u001b[43m)\u001b[49m)\n\u001b[1;32m      2\u001b[0m [\u001b[38;5;28mprint\u001b[39m(x[\u001b[38;5;241m1\u001b[39m]) \u001b[38;5;28;01mfor\u001b[39;00m x \u001b[38;5;129;01min\u001b[39;00m \u001b[38;5;28msorted\u001b[39m(result, key\u001b[38;5;241m=\u001b[39m\u001b[38;5;28;01mlambda\u001b[39;00m x:\u001b[38;5;28mint\u001b[39m(x[\u001b[38;5;241m0\u001b[39m]\u001b[38;5;241m.\u001b[39msplit(\u001b[38;5;124m'\u001b[39m\u001b[38;5;124m_\u001b[39m\u001b[38;5;124m'\u001b[39m)[\u001b[38;5;241m1\u001b[39m]))]\n",
      "\u001b[0;31mValueError\u001b[0m: invalid literal for int() with base 10: 'kp'"
     ]
    }
   ],
   "source": [
    "result = sorted(list(zip(listdir(PATH), values)), key=lambda x:int(x[0].split('_')[2]))\n",
    "[print(x[1]) for x in sorted(result, key=lambda x:int(x[0].split('_')[1]))]"
   ]
  },
  {
   "cell_type": "code",
   "execution_count": null,
   "id": "17006568",
   "metadata": {},
   "outputs": [],
   "source": []
  }
 ],
 "metadata": {
  "kernelspec": {
   "display_name": "Python 3 (ipykernel)",
   "language": "python",
   "name": "python3"
  },
  "language_info": {
   "codemirror_mode": {
    "name": "ipython",
    "version": 3
   },
   "file_extension": ".py",
   "mimetype": "text/x-python",
   "name": "python",
   "nbconvert_exporter": "python",
   "pygments_lexer": "ipython3",
   "version": "3.9.13"
  },
  "toc": {
   "base_numbering": 1,
   "nav_menu": {},
   "number_sections": false,
   "sideBar": true,
   "skip_h1_title": false,
   "title_cell": "Table of Contents",
   "title_sidebar": "Contents",
   "toc_cell": false,
   "toc_position": {},
   "toc_section_display": true,
   "toc_window_display": false
  },
  "vscode": {
   "interpreter": {
    "hash": "aee8b7b246df8f9039afb4144a1f6fd8d2ca17a180786b69acc140d282b71a49"
   }
  }
 },
 "nbformat": 4,
 "nbformat_minor": 5
}
