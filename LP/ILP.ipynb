{
 "cells": [
  {
   "cell_type": "code",
   "execution_count": 1,
   "id": "69df009c",
   "metadata": {},
   "outputs": [],
   "source": [
    "import pandas as pd\n",
    "import numpy as np\n",
    "from tqdm import tqdm\n",
    "from gurobipy import GRB\n",
    "import gurobipy as gp"
   ]
  },
  {
   "cell_type": "markdown",
   "id": "1b3deaed",
   "metadata": {},
   "source": [
    "## Cargo Problem"
   ]
  },
  {
   "cell_type": "markdown",
   "id": "f0a303ba",
   "metadata": {},
   "source": [
    "A cargo plane has three holds for storing cargo: front, centre and rear. These holds have the following limits on both weight and space:"
   ]
  },
  {
   "cell_type": "markdown",
   "id": "83e50a64",
   "metadata": {},
   "source": [
    "**Holds**\n",
    "\n",
    "| Hold   | Weight capacity (Tonnes) | Space capacity (Cubic Meters) |\n",
    "|--------|--------------------------|-------------------------------|\n",
    "| Front  | 10                       | 6800                          |\n",
    "| Center | 16                       | 8700                          |\n",
    "|  Back  | 8                        |  5300                         |\n",
    "\n",
    "\n",
    "Furthermore, the weight of the cargo in the respective holds must be the same proportion of that hold’s weight capacity to maintain the balance of the plane. The following four cargoes are available for shipment on the next flight:"
   ]
  },
  {
   "cell_type": "code",
   "execution_count": 2,
   "id": "4ce98b86",
   "metadata": {},
   "outputs": [],
   "source": [
    "holds = [\n",
    "    ['Front', 10, 6800],\n",
    "    ['Center',16,8700],\n",
    "    ['Back',8,5300],\n",
    "]\n",
    "holds = pd.DataFrame(holds)\n",
    "holds.columns = ['Hold','Weight','Volume']"
   ]
  },
  {
   "cell_type": "markdown",
   "id": "3fd17253",
   "metadata": {},
   "source": [
    "**Shipment**\n",
    "\n",
    "| Cargo | Weight (Tonnes) | Volume (Cubic meters) | Profit / Tonne ($) |\n",
    "|-------|-----------------|-----------------------|--------------------|\n",
    "| C1    | 18              | 480                   | 310                |\n",
    "| C2    | 15              | 650                   | 380                |\n",
    "| C3    | 23              | 580                   | 350                |\n",
    "| C4    | 12              | 390                   | 285                |"
   ]
  },
  {
   "cell_type": "markdown",
   "id": "432e264b",
   "metadata": {},
   "source": [
    "Any proportion of these cargoes can be accepted. The objective is to determine how much (if any) of each cargo C1, C2, C3 and C4 should be accepted and how to distribute each among the compartments so that the total profit for the flight is maximized.\n",
    "\n",
    "Formulate the above problem as a linear program and solve it! Report the solution too."
   ]
  },
  {
   "cell_type": "code",
   "execution_count": 3,
   "id": "36c06c31",
   "metadata": {},
   "outputs": [],
   "source": [
    "shipment = [\n",
    "    ['C1',18,480,310],\n",
    "    ['C2',15,650,380],\n",
    "    ['C3',23,580,350],\n",
    "    ['C4',12,390,285],\n",
    "]\n",
    "shipment = pd.DataFrame(shipment)\n",
    "shipment.columns = ['Cargo','Weight','Volume','Profit']"
   ]
  },
  {
   "cell_type": "markdown",
   "id": "4c8ae27d",
   "metadata": {},
   "source": [
    "**Solution**"
   ]
  },
  {
   "cell_type": "code",
   "execution_count": 4,
   "id": "df4a9242",
   "metadata": {},
   "outputs": [
    {
     "name": "stdout",
     "output_type": "stream",
     "text": [
      "Set parameter Username\n",
      "Academic license - for non-commercial use only - expires 2023-06-11\n"
     ]
    }
   ],
   "source": [
    "m = gp.Model(\"Cargo\")"
   ]
  },
  {
   "cell_type": "code",
   "execution_count": 5,
   "id": "6ab66e42",
   "metadata": {},
   "outputs": [],
   "source": [
    "\n",
    "'''\n",
    "I don't know if I can allocate fraction number of Cargo like 1/2 of Unit C1,\n",
    "If yes,\n",
    "Please change to following code:\n",
    "\n",
    "x = m.addMVar(shape = (4, 3), vtype=GRB.CONTINUOUS , name=\"decision\")\n",
    "'''\n",
    "\n",
    "## Allocate decision variables\n",
    "## x[i][j] -> put x[i][j] proportion of cargo i to hold j\n",
    "x = m.addMVar(shape = (4, 3), vtype=GRB.INTEGER , name=\"decision\")\n"
   ]
  },
  {
   "cell_type": "code",
   "execution_count": 6,
   "id": "0f05a342",
   "metadata": {},
   "outputs": [],
   "source": [
    "## Add range constraints\n",
    "for i in range(len(shipment)):\n",
    "    for j in range(len(holds)):\n",
    "        m.addConstr(\n",
    "            0 <= x[i][j]\n",
    "        )\n",
    "for i in range(len(shipment)):\n",
    "    m.addConstr(\n",
    "        gp.quicksum(x[i]) <= shipment.loc[i, 'Weight']\n",
    "    )"
   ]
  },
  {
   "cell_type": "code",
   "execution_count": 7,
   "id": "13faf7ed",
   "metadata": {},
   "outputs": [],
   "source": [
    "## Add resource constraints\n",
    "for j, row in holds.iterrows():\n",
    "    m.addConstr(\n",
    "        gp.quicksum(\n",
    "            x[k][j]\n",
    "            for k in range(len(shipment))\n",
    "        ) <= row['Weight']\n",
    "    )\n",
    "    \n",
    "    m.addConstr(\n",
    "        gp.quicksum(\n",
    "            x[k][j] * shipment.loc[k, 'Volume']\n",
    "            for k in range(len(shipment))\n",
    "        ) <= row['Volume']\n",
    "    )\n",
    "    "
   ]
  },
  {
   "cell_type": "code",
   "execution_count": 8,
   "id": "18c9682a",
   "metadata": {},
   "outputs": [],
   "source": [
    "## Add objective\n",
    "m.setObjective(\n",
    "    gp.quicksum(\n",
    "        gp.quicksum(x[k]) * shipment.loc[k, 'Profit']\n",
    "        for k in range(len(shipment))\n",
    "    )\n",
    "    ,GRB.MAXIMIZE\n",
    ")\n"
   ]
  },
  {
   "cell_type": "code",
   "execution_count": 9,
   "id": "be7a42bf",
   "metadata": {},
   "outputs": [
    {
     "name": "stdout",
     "output_type": "stream",
     "text": [
      "Gurobi Optimizer version 9.5.1 build v9.5.1rc2 (mac64[arm])\n",
      "Thread count: 10 physical cores, 10 logical processors, using up to 10 threads\n",
      "Optimize a model with 22 rows, 12 columns and 48 nonzeros\n",
      "Model fingerprint: 0x34228220\n",
      "Variable types: 0 continuous, 12 integer (0 binary)\n",
      "Coefficient statistics:\n",
      "  Matrix range     [1e+00, 6e+02]\n",
      "  Objective range  [3e+02, 4e+02]\n",
      "  Bounds range     [0e+00, 0e+00]\n",
      "  RHS range        [8e+00, 9e+03]\n",
      "Found heuristic solution: objective 11280.000000\n",
      "Presolve removed 14 rows and 0 columns\n",
      "Presolve time: 0.00s\n",
      "Presolved: 8 rows, 12 columns, 28 nonzeros\n",
      "Variable types: 0 continuous, 12 integer (0 binary)\n",
      "Found heuristic solution: objective 11360.000000\n",
      "\n",
      "Root relaxation: objective 1.215158e+04, 13 iterations, 0.00 seconds (0.00 work units)\n",
      "\n",
      "    Nodes    |    Current Node    |     Objective Bounds      |     Work\n",
      " Expl Unexpl |  Obj  Depth IntInf | Incumbent    BestBd   Gap | It/Node Time\n",
      "\n",
      "     0     0 12151.5789    0    2 11360.0000 12151.5789  6.97%     -    0s\n",
      "H    0     0                    12115.000000 12151.5789  0.30%     -    0s\n",
      "H    0     0                    12140.000000 12151.5789  0.10%     -    0s\n",
      "\n",
      "Cutting planes:\n",
      "  StrongCG: 1\n",
      "\n",
      "Explored 1 nodes (13 simplex iterations) in 0.01 seconds (0.00 work units)\n",
      "Thread count was 10 (of 10 available processors)\n",
      "\n",
      "Solution count 4: 12140 12115 11360 11280 \n",
      "\n",
      "Optimal solution found (tolerance 1.00e-04)\n",
      "Best objective 1.214000000000e+04, best bound 1.214000000000e+04, gap 0.0000%\n"
     ]
    }
   ],
   "source": [
    "## Optimization\n",
    "try: \n",
    "    m.optimize()\n",
    "except gp.GurobiError as E:\n",
    "    print(\"Optimize failed\", E)"
   ]
  },
  {
   "cell_type": "code",
   "execution_count": 10,
   "id": "8931f87d",
   "metadata": {},
   "outputs": [
    {
     "name": "stdout",
     "output_type": "stream",
     "text": [
      "Distribute 0.000000 C1 to Front\n",
      "Distribute 2.000000 C1 to Center\n",
      "Distribute 0.000000 C1 to Back\n",
      "Distribute 7.000000 C2 to Front\n",
      "Distribute 0.000000 C2 to Center\n",
      "Distribute 8.000000 C2 to Back\n",
      "Distribute 3.000000 C3 to Front\n",
      "Distribute 12.000000 C3 to Center\n",
      "Distribute 0.000000 C3 to Back\n",
      "Distribute 0.000000 C4 to Front\n",
      "Distribute 2.000000 C4 to Center\n",
      "Distribute 0.000000 C4 to Back\n"
     ]
    }
   ],
   "source": [
    "for i in range(len(shipment)):\n",
    "    for j in range(len(holds)):\n",
    "        print('Distribute %f %s to %s'%(x[i][j].x, shipment.loc[i, 'Cargo'], holds.loc[j, 'Hold']))"
   ]
  },
  {
   "cell_type": "code",
   "execution_count": null,
   "id": "90755693",
   "metadata": {},
   "outputs": [
    {
     "ename": "",
     "evalue": "",
     "output_type": "error",
     "traceback": [
      "\u001b[1;31mRunning cells with 'Python 3.8.2 64-bit' requires ipykernel package.\n",
      "\u001b[1;31mRun the following command to install 'ipykernel' into the Python environment. \n",
      "\u001b[1;31mCommand: '/usr/bin/python3 -m pip install ipykernel -U --user --force-reinstall'"
     ]
    }
   ],
   "source": [
    "total = sum([sum([x[i][j].x for j in range(len(holds))])*shipment.loc[i, 'Profit'] for i in range(len(shipment))])"
   ]
  },
  {
   "cell_type": "markdown",
   "id": "361ce7ac",
   "metadata": {},
   "source": [
    "## Production Planning"
   ]
  },
  {
   "cell_type": "markdown",
   "id": "4d12efbd",
   "metadata": {},
   "source": [
    "| Month  | 3    | 4    | 5    | 6    | 7    | 8    |\n",
    "|--------|------|------|------|------|------|------|\n",
    "| Demand | 5000 | 6000 | 6500 | 7000 | 8000 | 9500 |"
   ]
  },
  {
   "cell_type": "markdown",
   "id": "efdd6c07",
   "metadata": {},
   "source": [
    "The company currently has in stock: 1000 units which were produced in month 2; 2000 units which were produced in month 1; 500 units which were produced in month 0.\n",
    "\n",
    "The company can only produce up to 6000 units per month and the managing director has stated that stocks must be built up to help meet demand in months 5, 6, 7 and 8. Each unit produced costs 15 doller and the cost of holding stock is estimated to be 0.75 doller per unit per month (based upon the stock held at the beginning of each month).\n",
    "\n",
    "The company has a major problem with deterioration of stock in that the stock inspection which takes place at the end of each month regularly identifies ruined stock (costing the company $25 per unit). It is estimated that, on average, the stock inspection at the end of month t will show that 11\\% of the units in stock which were produced in month t are ruined; 47\\% of the units in stock which were produced in month t-1 are ruined; 100\\% of the units in stock which were produced in month t-2 are ruined. The stock inspection for month 2 is just about to take place.\n",
    "\n",
    "The company wants a production plan for the next six months that avoids stock outs (and minimizes costs).\n",
    "\n",
    "Formulate their problem as a linear program and solve it! Report the solution too.\n",
    "Add submission\n"
   ]
  },
  {
   "cell_type": "code",
   "execution_count": 11,
   "id": "4bfab39f",
   "metadata": {},
   "outputs": [],
   "source": [
    "demand = [0,0,0,5000,6000,6500,7000,8000,9500]"
   ]
  },
  {
   "cell_type": "code",
   "execution_count": 12,
   "id": "f0abf5e4",
   "metadata": {},
   "outputs": [],
   "source": [
    "m = gp.Model(\"Planning\")"
   ]
  },
  {
   "cell_type": "code",
   "execution_count": 13,
   "id": "0be1a284",
   "metadata": {},
   "outputs": [],
   "source": [
    "## Allocate decision variables\n",
    "x = m.addMVar(shape=(len(demand)), vtype=GRB.INTEGER , name=\"decision\")\n",
    "# x = m.addMVar(shape=(len(demand)), vtype=GRB.CONTINUOUS , name=\"decision\")"
   ]
  },
  {
   "cell_type": "code",
   "execution_count": 14,
   "id": "5c63ef5c",
   "metadata": {},
   "outputs": [],
   "source": [
    "## Add constraints on max/min production values\n",
    "m.addConstr(x[0] == 500)\n",
    "m.addConstr(x[1] == 2000)\n",
    "m.addConstr(x[2] == 1000)\n",
    "\n",
    "for i in range(3, x.shape[0]):\n",
    "    m.addConstr(\n",
    "        0 <= x[i]\n",
    "    )\n",
    "    m.addConstr(\n",
    "        x[i] <= 8000\n",
    "    )"
   ]
  },
  {
   "cell_type": "code",
   "execution_count": null,
   "id": "cc3f2502",
   "metadata": {},
   "outputs": [
    {
     "ename": "",
     "evalue": "",
     "output_type": "error",
     "traceback": [
      "\u001b[1;31mRunning cells with 'Python 3.8.2 64-bit' requires ipykernel package.\n",
      "\u001b[1;31mRun the following command to install 'ipykernel' into the Python environment. \n",
      "\u001b[1;31mCommand: '/usr/bin/python3 -m pip install ipykernel -U --user --force-reinstall'"
     ]
    }
   ],
   "source": [
    "## Add intermediate variable y to represent stock allocations\n",
    "## y[i][0] -> production for current month, y[i][1] -> residual from month i-1, y[i][2] -> residual from month i-2\n",
    "y = m.addMVar(shape=(len(demand), 3), vtype=GRB.INTEGER , name=\"alloc\")"
   ]
  },
  {
   "cell_type": "code",
   "execution_count": 15,
   "id": "4f60cb43",
   "metadata": {},
   "outputs": [],
   "source": [
    "# ## Add intermediate variable y to represent residual stock\n",
    "# ## y[i][0] -> residual from month i-1, y[i][1] -> residual from month i-2\n",
    "# y = m.addMVar(shape=(len(demand), 2), vtype=GRB.INTEGER , name=\"decision\")\n",
    "# # y = m.addMVar(shape=(len(demand), 2), vtype=GRB.CONTINUOUS , name=\"decision\")\n",
    "\n",
    "# # 500\n",
    "# m.addConstr(\n",
    "#     y[0][0] + y[0][1] == x[0] - demand[0]\n",
    "# )\n",
    "# # 2445\n",
    "# m.addConstr(\n",
    "#     y[1][0] + y[1][1] == x[1] + 0.89 * y[0][0] - demand[1]\n",
    "# )\n",
    "\n",
    "# for i in range(2, x.shape[0]):\n",
    "#     m.addConstr(\n",
    "#         y[i][0] + y[i][1] == x[i] + 0.89 * y[i - 1][0] + 0.53 * y[i - 2][1] - demand[i]\n",
    "#     )\n",
    "\n",
    "# ## Add demand constraints\n",
    "# for i in range(x.shape[0]):\n",
    "#     m.addConstr(\n",
    "#         y[i][0] >= 0\n",
    "#     )\n",
    "#     m.addConstr(\n",
    "#         y[i][1] >= 0\n",
    "#     )\n",
    "\n",
    "# ## Add objective\n",
    "# '''\n",
    "# I don't know if we also do inspection in month 9?\n",
    "# If yes,\n",
    "# Please change to following code:\n",
    "\n",
    "# m.setObjective(\n",
    "#     gp.quicksum(y) * 0.75 + \n",
    "#     (gp.quicksum(x) - sum(demand) + y[y.shape[0] - 1]) * 25\n",
    "#     ,GRB.MINIMIZE\n",
    "# )\n",
    "# '''\n",
    "\n",
    "# # m.setObjective(\n",
    "# #     gp.quicksum(y) * 0.75 + \n",
    "# #     (gp.quicksum(x) - sum(demand)) * 25\n",
    "# #     ,GRB.MINIMIZE\n",
    "# # )\n",
    "\n",
    "# ## Optimization\n",
    "# try: \n",
    "#     m.optimize()\n",
    "# except gp.GurobiError as E:\n",
    "#     print(\"Optimize failed\", E)"
   ]
  },
  {
   "cell_type": "code",
   "execution_count": 16,
   "id": "0526c6fc",
   "metadata": {},
   "outputs": [
    {
     "data": {
      "text/plain": [
       "'\\n😭 Just noticed the slack channel that professor mentioned:\\n\\n(1) ruined only\\n(2) the ruined stock applies to the quantities that \\n    roll over to the next month after serving the demand for this month.\\n'"
      ]
     },
     "execution_count": 16,
     "metadata": {},
     "output_type": "execute_result"
    }
   ],
   "source": [
    "'''\n",
    "😭 Just noticed the slack channel that professor mentioned:\n",
    "\n",
    "(1) ruined only\n",
    "(2) the ruined stock applies to the quantities that \n",
    "    roll over to the next month after serving the demand for this month.\n",
    "'''"
   ]
  },
  {
   "cell_type": "code",
   "execution_count": 17,
   "id": "79f35153",
   "metadata": {},
   "outputs": [
    {
     "data": {
      "text/plain": [
       "'\\n😭 I should attend the class man...\\n\\nPer class, production limit for problem 2 is 8000\\n'"
      ]
     },
     "execution_count": 17,
     "metadata": {},
     "output_type": "execute_result"
    }
   ],
   "source": [
    "'''\n",
    "😭 I should attend the class man...\n",
    "\n",
    "Per class, production limit for problem 2 is 8000\n",
    "'''"
   ]
  },
  {
   "cell_type": "code",
   "execution_count": 18,
   "id": "fee7ced1",
   "metadata": {},
   "outputs": [],
   "source": [
    "## Add constraint\n",
    "\n",
    "for i in range(x.shape[0]):\n",
    "    m.addConstr(\n",
    "        gp.quicksum(x[:i+1]) - sum(demand[:i+1]) >= 0\n",
    "    )\n",
    "\n",
    "## Add objective\n",
    "m.setObjective(\n",
    "    gp.quicksum(\n",
    "        (gp.quicksum(x[:i+1]) - sum(demand[:i+1]))     * 0.75 +\n",
    "        (\n",
    "            (gp.quicksum(x[:i]) - sum(demand[:i]))     * 0.11 + \n",
    "            (gp.quicksum(x[:i-1]) - sum(demand[:i-1])) * 0.47 +\n",
    "            (gp.quicksum(x[:i-2]) - sum(demand[:i-2])) * 1\n",
    "        ) * 25\n",
    "        for i in range(x.shape[0])\n",
    "    )\n",
    "    ,GRB.MINIMIZE\n",
    ")"
   ]
  },
  {
   "cell_type": "code",
   "execution_count": 19,
   "id": "088279ab",
   "metadata": {},
   "outputs": [
    {
     "name": "stdout",
     "output_type": "stream",
     "text": [
      "Gurobi Optimizer version 9.5.1 build v9.5.1rc2 (mac64[arm])\n",
      "Thread count: 10 physical cores, 10 logical processors, using up to 10 threads\n",
      "Optimize a model with 24 rows, 9 columns and 60 nonzeros\n",
      "Model fingerprint: 0xcd85d52a\n",
      "Variable types: 0 continuous, 9 integer (0 binary)\n",
      "Coefficient statistics:\n",
      "  Matrix range     [1e+00, 1e+00]\n",
      "  Objective range  [8e-01, 3e+02]\n",
      "  Bounds range     [0e+00, 0e+00]\n",
      "  RHS range        [5e+02, 4e+04]\n",
      "Presolve removed 22 rows and 5 columns\n",
      "Presolve time: 0.00s\n",
      "Presolved: 2 rows, 4 columns, 6 nonzeros\n",
      "Variable types: 0 continuous, 4 integer (0 binary)\n",
      "Found heuristic solution: objective 1207258.5000\n",
      "\n",
      "Root relaxation: objective 4.025000e+05, 1 iterations, 0.00 seconds (0.00 work units)\n",
      "\n",
      "    Nodes    |    Current Node    |     Objective Bounds      |     Work\n",
      " Expl Unexpl |  Obj  Depth IntInf | Incumbent    BestBd   Gap | It/Node Time\n",
      "\n",
      "*    0     0               0    402500.00000 402500.000  0.00%     -    0s\n",
      "\n",
      "Explored 1 nodes (1 simplex iterations) in 0.01 seconds (0.00 work units)\n",
      "Thread count was 10 (of 10 available processors)\n",
      "\n",
      "Solution count 2: 402500 1.20726e+06 \n",
      "\n",
      "Optimal solution found (tolerance 1.00e-04)\n",
      "Best objective 4.025000000000e+05, best bound 4.025000000000e+05, gap 0.0000%\n"
     ]
    }
   ],
   "source": [
    "## Optimization\n",
    "try: \n",
    "    m.optimize()\n",
    "except gp.GurobiError as E:\n",
    "    print(\"Optimize failed\", E)"
   ]
  },
  {
   "cell_type": "code",
   "execution_count": 20,
   "id": "ff1ca944",
   "metadata": {},
   "outputs": [
    {
     "name": "stdout",
     "output_type": "stream",
     "text": [
      "Produce 500.000000 in 0-th month\n",
      "Produce 2000.000000 in 1-th month\n",
      "Produce 1000.000000 in 2-th month\n",
      "Produce 1500.000000 in 3-th month\n",
      "Produce 6000.000000 in 4-th month\n",
      "Produce 7000.000000 in 5-th month\n",
      "Produce 8000.000000 in 6-th month\n",
      "Produce 8000.000000 in 7-th month\n",
      "Produce 8000.000000 in 8-th month\n"
     ]
    }
   ],
   "source": [
    "for i in range(x.shape[0]):\n",
    "    print('Produce %f in %d-th month'%(x[i].x, i))"
   ]
  },
  {
   "cell_type": "code",
   "execution_count": 21,
   "id": "8f98ae5c",
   "metadata": {},
   "outputs": [
    {
     "data": {
      "text/plain": [
       "True"
      ]
     },
     "execution_count": 21,
     "metadata": {},
     "output_type": "execute_result"
    }
   ],
   "source": [
    "sum([x[i].x for i in range(x.shape[0])]) == sum(demand)"
   ]
  }
 ],
 "metadata": {
  "kernelspec": {
   "display_name": "Python 3.8.2 64-bit",
   "language": "python",
   "name": "python3"
  },
  "language_info": {
   "codemirror_mode": {
    "name": "ipython",
    "version": 3
   },
   "file_extension": ".py",
   "mimetype": "text/x-python",
   "name": "python",
   "nbconvert_exporter": "python",
   "pygments_lexer": "ipython3",
   "version": "3.8.2"
  },
  "vscode": {
   "interpreter": {
    "hash": "31f2aee4e71d21fbe5cf8b01ff0e069b9275f58929596ceb00d14d90e3e16cd6"
   }
  }
 },
 "nbformat": 4,
 "nbformat_minor": 5
}
