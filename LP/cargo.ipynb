{
 "cells": [
  {
   "cell_type": "code",
   "execution_count": 60,
   "metadata": {},
   "outputs": [],
   "source": [
    "import pandas as pd\n",
    "import numpy as np\n",
    "from gurobipy import GRB\n",
    "import gurobipy as gp"
   ]
  },
  {
   "cell_type": "code",
   "execution_count": 61,
   "metadata": {},
   "outputs": [],
   "source": [
    "holds = [\n",
    "    ['Front', 10, 6800],\n",
    "    ['Center',16,8700],\n",
    "    ['Back',8,5300],\n",
    "]\n",
    "holds = pd.DataFrame(holds, columns=['Hold','Weight','Volume'])"
   ]
  },
  {
   "cell_type": "code",
   "execution_count": 62,
   "metadata": {},
   "outputs": [],
   "source": [
    "shipment = [\n",
    "    ['C1',18,480,310],\n",
    "    ['C2',15,650,380],\n",
    "    ['C3',23,580,350],\n",
    "    ['C4',12,390,285],\n",
    "]\n",
    "shipment = pd.DataFrame(shipment, columns=['Cargo','Weight','Volume','Profit'])"
   ]
  },
  {
   "cell_type": "code",
   "execution_count": 63,
   "metadata": {},
   "outputs": [],
   "source": [
    "m = gp.Model(\"Cargo\")"
   ]
  },
  {
   "cell_type": "code",
   "execution_count": 64,
   "metadata": {},
   "outputs": [],
   "source": [
    "## Allocating decision variables.\n",
    "## x[i][j] -> put x[i][j] proportion of cargo i to hold j\n",
    "x = m.addMVar(shape = (4, 3), vtype=GRB.CONTINUOUS, name=\"decision\")"
   ]
  },
  {
   "cell_type": "code",
   "execution_count": 65,
   "metadata": {},
   "outputs": [],
   "source": [
    "## Decision variables should be proportions, so in the range [0,1]\n",
    "for i in range(len(shipment)):\n",
    "    for j in range(len(holds)):\n",
    "        m.addConstr(\n",
    "            x[i][j] >= 0\n",
    "        )"
   ]
  },
  {
   "cell_type": "code",
   "execution_count": 66,
   "metadata": {},
   "outputs": [],
   "source": [
    "for i in range(len(shipment)):\n",
    "    m.addConstr(\n",
    "        gp.quicksum(x[i]) <= shipment.loc[i, 'Weight']\n",
    "    )"
   ]
  },
  {
   "cell_type": "code",
   "execution_count": 67,
   "metadata": {},
   "outputs": [],
   "source": [
    "for j, row in holds.iterrows():\n",
    "    ## Add constraints on each hold's weight capacity\n",
    "    m.addConstr(\n",
    "        gp.quicksum(\n",
    "            x[k][j]\n",
    "            for k in range(len(shipment))\n",
    "        ) <= row['Weight']\n",
    "    )\n",
    "    ## Add constraints on each hold's space capacity\n",
    "    m.addConstr(\n",
    "        gp.quicksum(\n",
    "            x[k][j] * shipment.loc[k, 'Volume']\n",
    "            for k in range(len(shipment))\n",
    "        ) <= row['Volume']\n",
    "    )"
   ]
  },
  {
   "cell_type": "code",
   "execution_count": 68,
   "metadata": {},
   "outputs": [],
   "source": [
    "## Add weight proportion constraints\n",
    "for j, row in holds.iterrows():\n",
    "    for i, row in holds.iterrows():\n",
    "        if i > j:\n",
    "            p1 = gp.quicksum(\n",
    "                    x[k][j]\n",
    "                    for k in range(len(shipment))\n",
    "                ) / holds.loc[j, 'Weight']\n",
    "            p2 = gp.quicksum(\n",
    "                    x[k][i]\n",
    "                    for k in range(len(shipment))\n",
    "                ) / holds.loc[i, 'Weight']\n",
    "            m.addConstr(p1 == p2)"
   ]
  },
  {
   "cell_type": "code",
   "execution_count": 69,
   "metadata": {},
   "outputs": [],
   "source": [
    "## Add objective\n",
    "m.setObjective(\n",
    "    gp.quicksum(\n",
    "        gp.quicksum(x[k]) * shipment.loc[k, 'Profit']\n",
    "        for k in range(len(shipment))\n",
    "    )\n",
    "    ,GRB.MAXIMIZE\n",
    ")"
   ]
  },
  {
   "cell_type": "code",
   "execution_count": 70,
   "metadata": {},
   "outputs": [
    {
     "name": "stdout",
     "output_type": "stream",
     "text": [
      "Gurobi Optimizer version 9.5.2 build v9.5.2rc0 (mac64[x86])\n",
      "Thread count: 4 physical cores, 8 logical processors, using up to 8 threads\n",
      "Optimize a model with 25 rows, 12 columns and 72 nonzeros\n",
      "Model fingerprint: 0xd5c08a29\n",
      "Variable types: 0 continuous, 12 integer (0 binary)\n",
      "Coefficient statistics:\n",
      "  Matrix range     [6e-02, 6e+02]\n",
      "  Objective range  [3e+02, 4e+02]\n",
      "  Bounds range     [0e+00, 0e+00]\n",
      "  RHS range        [8e+00, 9e+03]\n",
      "Found heuristic solution: objective -0.0000000\n",
      "Presolve removed 14 rows and 0 columns\n",
      "Presolve time: 0.00s\n",
      "Presolved: 11 rows, 12 columns, 52 nonzeros\n",
      "Variable types: 0 continuous, 12 integer (0 binary)\n",
      "\n",
      "Root relaxation: objective 1.215158e+04, 18 iterations, 0.00 seconds (0.00 work units)\n",
      "\n",
      "    Nodes    |    Current Node    |     Objective Bounds      |     Work\n",
      " Expl Unexpl |  Obj  Depth IntInf | Incumbent    BestBd   Gap | It/Node Time\n",
      "\n",
      "     0     0 12151.5789    0    2   -0.00000 12151.5789      -     -    0s\n",
      "H    0     0                    12115.000000 12151.5789  0.30%     -    0s\n",
      "H    0     0                    12140.000000 12151.5789  0.10%     -    0s\n",
      "\n",
      "Cutting planes:\n",
      "  Gomory: 1\n",
      "  MIR: 1\n",
      "  StrongCG: 1\n",
      "\n",
      "Explored 1 nodes (18 simplex iterations) in 0.02 seconds (0.00 work units)\n",
      "Thread count was 8 (of 8 available processors)\n",
      "\n",
      "Solution count 3: 12140 12115 -0 \n",
      "\n",
      "Optimal solution found (tolerance 1.00e-04)\n",
      "Best objective 1.214000000000e+04, best bound 1.214000000000e+04, gap 0.0000%\n"
     ]
    }
   ],
   "source": [
    "## Optimization\n",
    "try: \n",
    "    m.optimize()\n",
    "except gp.GurobiError as E:\n",
    "    print(\"Optimize failed\", E)"
   ]
  },
  {
   "cell_type": "code",
   "execution_count": 71,
   "metadata": {},
   "outputs": [
    {
     "name": "stdout",
     "output_type": "stream",
     "text": [
      "Distribute 0.000000 C1 to Front\n",
      "Distribute 2.000000 C1 to Center\n",
      "Distribute 0.000000 C1 to Back\n",
      "Distribute 7.000000 C2 to Front\n",
      "Distribute 0.000000 C2 to Center\n",
      "Distribute 8.000000 C2 to Back\n",
      "Distribute 3.000000 C3 to Front\n",
      "Distribute 12.000000 C3 to Center\n",
      "Distribute 0.000000 C3 to Back\n",
      "Distribute 0.000000 C4 to Front\n",
      "Distribute 2.000000 C4 to Center\n",
      "Distribute 0.000000 C4 to Back\n"
     ]
    }
   ],
   "source": [
    "for i in range(len(shipment)):\n",
    "    for j in range(len(holds)):\n",
    "        print('Distribute %f %s to %s'%(x[i][j].x, shipment.loc[i, 'Cargo'], holds.loc[j, 'Hold']))"
   ]
  },
  {
   "cell_type": "code",
   "execution_count": 72,
   "metadata": {},
   "outputs": [
    {
     "name": "stdout",
     "output_type": "stream",
     "text": [
      "12140.0\n"
     ]
    }
   ],
   "source": [
    "total = sum([sum([x[i][j].x for j in range(len(holds))])*shipment.loc[i, 'Profit'] for i in range(len(shipment))])\n",
    "#for i in range(len(shipment)):\n",
    "print(total)  \n",
    "#12151.57894736842 "
   ]
  }
 ],
 "metadata": {
  "kernelspec": {
   "display_name": "Python 3.7.12 ('base')",
   "language": "python",
   "name": "python3"
  },
  "language_info": {
   "codemirror_mode": {
    "name": "ipython",
    "version": 3
   },
   "file_extension": ".py",
   "mimetype": "text/x-python",
   "name": "python",
   "nbconvert_exporter": "python",
   "pygments_lexer": "ipython3",
   "version": "3.7.12"
  },
  "orig_nbformat": 4,
  "vscode": {
   "interpreter": {
    "hash": "773222f27068e2e4d4101b54fcc4627fb86b5a4591044e309acc2fe4a75e6810"
   }
  }
 },
 "nbformat": 4,
 "nbformat_minor": 2
}
