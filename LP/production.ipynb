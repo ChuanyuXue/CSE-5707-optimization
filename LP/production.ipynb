{
 "cells": [
  {
   "cell_type": "code",
   "execution_count": 21,
   "metadata": {},
   "outputs": [],
   "source": [
    "import pandas as pd\n",
    "import numpy as np\n",
    "from gurobipy import GRB\n",
    "import gurobipy as gp"
   ]
  },
  {
   "cell_type": "code",
   "execution_count": 22,
   "metadata": {},
   "outputs": [],
   "source": [
    "demand = [0,0,0,5000,6000,6500,7000,8000,9500]"
   ]
  },
  {
   "cell_type": "code",
   "execution_count": 23,
   "metadata": {},
   "outputs": [],
   "source": [
    "m = gp.Model(\"Production\")"
   ]
  },
  {
   "cell_type": "code",
   "execution_count": 24,
   "metadata": {},
   "outputs": [],
   "source": [
    "## Allocate decision variables\n",
    "x = m.addMVar(shape=(len(demand)), vtype=GRB.INTEGER , name=\"decision\")"
   ]
  },
  {
   "cell_type": "code",
   "execution_count": 25,
   "metadata": {},
   "outputs": [],
   "source": [
    "## Add constraints on max/min production values\n",
    "m.addConstr(x[0] == 500)\n",
    "m.addConstr(x[1] == 2000)\n",
    "m.addConstr(x[2] == 1000)\n",
    "\n",
    "for i in range(3, x.shape[0]):\n",
    "    m.addConstr(\n",
    "        0 <= x[i]\n",
    "    )\n",
    "    m.addConstr(\n",
    "        x[i] <= 8000\n",
    "    )"
   ]
  },
  {
   "cell_type": "code",
   "execution_count": 26,
   "metadata": {},
   "outputs": [],
   "source": [
    "## Add intermediate variable y to represent stock allocations\n",
    "## y[i][0] -> production for current month, y[i][1] -> residual from month i-1, y[i][2] -> residual from month i-2\n",
    "y = m.addMVar(shape=(len(demand), 3), vtype=GRB.INTEGER , name=\"alloc\")\n",
    "\n",
    "for i in range(x.shape[0]):\n",
    "    for j in range(3):\n",
    "        m.addConstr(\n",
    "            y[i][j] >= 0\n",
    "            )"
   ]
  },
  {
   "cell_type": "code",
   "execution_count": 27,
   "metadata": {},
   "outputs": [],
   "source": [
    "## Add basic constraints on allocations\n",
    "for i in range(x.shape[0]):\n",
    "    m.addConstr(\n",
    "        x[i] == gp.quicksum(y[i][j] for j in range(3))\n",
    "    )"
   ]
  },
  {
   "cell_type": "code",
   "execution_count": 28,
   "metadata": {},
   "outputs": [],
   "source": [
    "## Add constracts to meet demand of each month\n",
    "for i in range(3, x.shape[0]):\n",
    "    m.addConstr(\n",
    "        demand[i] <= y[i][0] + y[i-1][1]*0.89 + y[i-2][2]*0.47\n",
    "    )"
   ]
  },
  {
   "cell_type": "code",
   "execution_count": 29,
   "metadata": {},
   "outputs": [],
   "source": [
    "obj_f = sum([((y[i][1]*0.11)*25 + (y[i][2]*0.53)*25 + (y[i][1])*0.75 + (y[i][2])*0.75*2) for i in range(x.shape[0])])"
   ]
  },
  {
   "cell_type": "code",
   "execution_count": 30,
   "metadata": {},
   "outputs": [],
   "source": [
    "m.setObjective(\n",
    "    obj_f\n",
    "    ,GRB.MINIMIZE\n",
    ")"
   ]
  },
  {
   "cell_type": "code",
   "execution_count": 31,
   "metadata": {},
   "outputs": [
    {
     "name": "stdout",
     "output_type": "stream",
     "text": [
      "Gurobi Optimizer version 9.5.2 build v9.5.2rc0 (mac64[x86])\n",
      "Thread count: 4 physical cores, 8 logical processors, using up to 8 threads\n",
      "Optimize a model with 57 rows, 36 columns and 96 nonzeros\n",
      "Model fingerprint: 0x13d8712e\n",
      "Variable types: 0 continuous, 36 integer (0 binary)\n",
      "Coefficient statistics:\n",
      "  Matrix range     [5e-01, 1e+00]\n",
      "  Objective range  [4e+00, 1e+01]\n",
      "  Bounds range     [0e+00, 0e+00]\n",
      "  RHS range        [5e+02, 1e+04]\n",
      "Found heuristic solution: objective 76603.500000\n",
      "Presolve removed 47 rows and 21 columns\n",
      "Presolve time: 0.00s\n",
      "Presolved: 10 rows, 15 columns, 29 nonzeros\n",
      "Found heuristic solution: objective 52301.750000\n",
      "Variable types: 0 continuous, 15 integer (0 binary)\n",
      "Found heuristic solution: objective 19313.000000\n",
      "\n",
      "Root relaxation: objective 1.604138e+04, 4 iterations, 0.00 seconds (0.00 work units)\n",
      "\n",
      "    Nodes    |    Current Node    |     Objective Bounds      |     Work\n",
      " Expl Unexpl |  Obj  Depth IntInf | Incumbent    BestBd   Gap | It/Node Time\n",
      "\n",
      "     0     0 16041.3791    0    5 19313.0000 16041.3791  16.9%     -    0s\n",
      "H    0     0                    16081.250000 16041.3791  0.25%     -    0s\n",
      "H    0     0                    16073.500000 16041.3791  0.20%     -    0s\n",
      "H    0     0                    16062.250000 16041.3791  0.13%     -    0s\n",
      "H    0     0                    16054.500000 16041.3791  0.08%     -    0s\n",
      "\n",
      "Cutting planes:\n",
      "  MIR: 2\n",
      "\n",
      "Explored 1 nodes (4 simplex iterations) in 0.04 seconds (0.00 work units)\n",
      "Thread count was 8 (of 8 available processors)\n",
      "\n",
      "Solution count 7: 16054.5 16062.2 16073.5 ... 76603.5\n",
      "\n",
      "Optimal solution found (tolerance 1.00e-04)\n",
      "Best objective 1.605450000000e+04, best bound 1.605450000000e+04, gap 0.0000%\n"
     ]
    }
   ],
   "source": [
    "try: \n",
    "    m.optimize()\n",
    "except gp.GurobiError as E:\n",
    "    print(\"Optimize failed\", E)"
   ]
  },
  {
   "cell_type": "code",
   "execution_count": 32,
   "metadata": {},
   "outputs": [
    {
     "name": "stdout",
     "output_type": "stream",
     "text": [
      "500.0 [500.  -0.  -0.]\n",
      "2000.0 [2000.   -0.   -0.]\n",
      "1000.0 [1000.   -0.   -0.]\n",
      "8000.0 [8000.   -0.   -0.]\n",
      "8000.0 [8000.   -0.   -0.]\n",
      "8000.0 [6994. 1006.   -0.]\n",
      "8000.0 [6105. 1895.   -0.]\n",
      "8000.0 [6314. 1686.   -0.]\n",
      "8000.0 [8000.   -0.   -0.]\n"
     ]
    }
   ],
   "source": [
    "for i in range(x.shape[0]):\n",
    "    print(x[i].x, y[i].x)"
   ]
  }
 ],
 "metadata": {
  "kernelspec": {
   "display_name": "Python 3.7.12 ('base')",
   "language": "python",
   "name": "python3"
  },
  "language_info": {
   "codemirror_mode": {
    "name": "ipython",
    "version": 3
   },
   "file_extension": ".py",
   "mimetype": "text/x-python",
   "name": "python",
   "nbconvert_exporter": "python",
   "pygments_lexer": "ipython3",
   "version": "3.7.12"
  },
  "orig_nbformat": 4,
  "vscode": {
   "interpreter": {
    "hash": "773222f27068e2e4d4101b54fcc4627fb86b5a4591044e309acc2fe4a75e6810"
   }
  }
 },
 "nbformat": 4,
 "nbformat_minor": 2
}
