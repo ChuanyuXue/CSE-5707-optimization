{
 "cells": [
  {
   "cell_type": "code",
   "execution_count": 54,
   "metadata": {},
   "outputs": [],
   "source": [
    "import pandas as pd\n",
    "import numpy as np\n",
    "from gurobipy import GRB\n",
    "import gurobipy as gp"
   ]
  },
  {
   "cell_type": "code",
   "execution_count": 55,
   "metadata": {},
   "outputs": [],
   "source": [
    "demand = [0,0,0,5000,6000,6500,7000,8000,9500]"
   ]
  },
  {
   "cell_type": "code",
   "execution_count": 56,
   "metadata": {},
   "outputs": [],
   "source": [
    "m = gp.Model(\"Production\")"
   ]
  },
  {
   "cell_type": "code",
   "execution_count": 57,
   "metadata": {},
   "outputs": [],
   "source": [
    "## Allocate decision variables\n",
    "x = m.addMVar(shape=(len(demand)), vtype=GRB.CONTINUOUS , name=\"decision\")"
   ]
  },
  {
   "cell_type": "code",
   "execution_count": 58,
   "metadata": {},
   "outputs": [],
   "source": [
    "## Add constraints on max/min production values\n",
    "m.addConstr(x[0] == 500)\n",
    "m.addConstr(x[1] == 2000)\n",
    "m.addConstr(x[2] == 1000)\n",
    "\n",
    "for i in range(3, x.shape[0]):\n",
    "    m.addConstr(\n",
    "        0 <= x[i]\n",
    "    )\n",
    "    m.addConstr(\n",
    "        x[i] <= 8000\n",
    "    )"
   ]
  },
  {
   "cell_type": "code",
   "execution_count": 59,
   "metadata": {},
   "outputs": [],
   "source": [
    "## Add intermediate variable y to represent stock allocations\n",
    "## y[i][0] -> production for current month, y[i][1] -> residual from month i-1, y[i][2] -> residual from month i-2\n",
    "y = m.addMVar(shape=(len(demand), 3), vtype=GRB.CONTINUOUS , name=\"alloc\")\n",
    "\n",
    "for i in range(x.shape[0]):\n",
    "    for j in range(3):\n",
    "        m.addConstr(\n",
    "            y[i][j] >= 0\n",
    "            )"
   ]
  },
  {
   "cell_type": "code",
   "execution_count": 60,
   "metadata": {},
   "outputs": [],
   "source": [
    "## Add basic constraints on allocations\n",
    "for i in range(x.shape[0]):\n",
    "    m.addConstr(\n",
    "        x[i] == gp.quicksum(y[i][j] for j in range(3))\n",
    "    )"
   ]
  },
  {
   "cell_type": "code",
   "execution_count": 61,
   "metadata": {},
   "outputs": [],
   "source": [
    "## Add constracts to meet demand of each month\n",
    "for i in range(3, x.shape[0]):\n",
    "    m.addConstr(\n",
    "        demand[i] <= y[i][0] + y[i-1][1]*0.89 + y[i-2][2]*0.47\n",
    "    )"
   ]
  },
  {
   "cell_type": "code",
   "execution_count": 62,
   "metadata": {},
   "outputs": [],
   "source": [
    "obj_f = sum([((x[i]*15) + (y[i][1]*0.11)*25 + (y[i][2]*0.53)*25 + (y[i][1])*0.75 + (y[i][2])*0.75*2) for i in range(x.shape[0])])"
   ]
  },
  {
   "cell_type": "code",
   "execution_count": 63,
   "metadata": {},
   "outputs": [],
   "source": [
    "m.setObjective(\n",
    "    obj_f\n",
    "    ,GRB.MINIMIZE\n",
    ")"
   ]
  },
  {
   "cell_type": "code",
   "execution_count": 64,
   "metadata": {},
   "outputs": [
    {
     "name": "stdout",
     "output_type": "stream",
     "text": [
      "Gurobi Optimizer version 9.5.2 build v9.5.2rc0 (mac64[x86])\n",
      "Thread count: 4 physical cores, 8 logical processors, using up to 8 threads\n",
      "Optimize a model with 57 rows, 36 columns and 96 nonzeros\n",
      "Model fingerprint: 0x5b790da4\n",
      "Coefficient statistics:\n",
      "  Matrix range     [5e-01, 1e+00]\n",
      "  Objective range  [4e+00, 2e+01]\n",
      "  Bounds range     [0e+00, 0e+00]\n",
      "  RHS range        [5e+02, 1e+04]\n",
      "Presolve removed 47 rows and 15 columns\n",
      "Presolve time: 0.03s\n",
      "Presolved: 10 rows, 21 columns, 35 nonzeros\n",
      "\n",
      "Iteration    Objective       Primal Inf.    Dual Inf.      Time\n",
      "       0    1.6549730e+05   5.710861e+03   0.000000e+00      0s\n",
      "       9    6.9625374e+05   0.000000e+00   0.000000e+00      0s\n",
      "\n",
      "Solved in 9 iterations and 0.04 seconds (0.00 work units)\n",
      "Optimal objective  6.962537436e+05\n"
     ]
    }
   ],
   "source": [
    "try: \n",
    "    m.optimize()\n",
    "except gp.GurobiError as E:\n",
    "    print(\"Optimize failed\", E)"
   ]
  },
  {
   "cell_type": "code",
   "execution_count": 65,
   "metadata": {},
   "outputs": [
    {
     "name": "stdout",
     "output_type": "stream",
     "text": [
      "500.0 [500.   0.   0.]\n",
      "2000.0 [2000.    0.    0.]\n",
      "1000.0 [   0. 1000.    0.]\n",
      "4110.0 [4110.    0.    0.]\n",
      "6000.0 [6000.    0.    0.]\n",
      "7504.1576296262665 [6500.         1004.15762963    0.        ]\n",
      "8000.0 [6106.29970963 1893.70029037    0.        ]\n",
      "8000.0 [6314.60674157 1685.39325843    0.        ]\n",
      "8000.0 [8000.    0.    0.]\n"
     ]
    }
   ],
   "source": [
    "for i in range(x.shape[0]):\n",
    "    print(x[i].x, y[i].x)"
   ]
  },
  {
   "cell_type": "code",
   "execution_count": 66,
   "metadata": {},
   "outputs": [
    {
     "name": "stdout",
     "output_type": "stream",
     "text": [
      "Month 0: 500 500.00 0.00 0.00\n",
      "Month 1: 2000 2000.00 0.00 0.00\n",
      "Month 2: 1000 0.00 1000.00 0.00\n",
      "Month 3: 4110 4110.00 0.00 0.00\n",
      "Month 4: 6000 6000.00 0.00 0.00\n",
      "Month 5: 7504 6500.00 1004.16 0.00\n",
      "Month 6: 8000 6106.30 1893.70 0.00\n",
      "Month 7: 8000 6314.61 1685.39 0.00\n",
      "Month 8: 8000 8000.00 0.00 0.00\n"
     ]
    }
   ],
   "source": [
    "for i in range(x.shape[0]):\n",
    "    print(\"Month %d: %d %.2f %.2f %.2f\"%(i, x[i].x, *y[i].x))"
   ]
  },
  {
   "cell_type": "code",
   "execution_count": 67,
   "metadata": {},
   "outputs": [
    {
     "data": {
      "text/plain": [
       "19541.379124472136"
      ]
     },
     "execution_count": 67,
     "metadata": {},
     "output_type": "execute_result"
    }
   ],
   "source": [
    "sum([((y[i][1].x*0.11)*25 + (y[i][2].x*0.53)*25 + (y[i][1].x)*0.75 + (y[i][2].x)*0.75*2) for i in range(x.shape[0])])"
   ]
  },
  {
   "cell_type": "code",
   "execution_count": 68,
   "metadata": {},
   "outputs": [
    {
     "data": {
      "text/plain": [
       "7000.45"
      ]
     },
     "execution_count": 68,
     "metadata": {},
     "output_type": "execute_result"
    }
   ],
   "source": [
    "1005 * 0.89 + 6106"
   ]
  }
 ],
 "metadata": {
  "kernelspec": {
   "display_name": "Python 3.7.12 ('base')",
   "language": "python",
   "name": "python3"
  },
  "language_info": {
   "codemirror_mode": {
    "name": "ipython",
    "version": 3
   },
   "file_extension": ".py",
   "mimetype": "text/x-python",
   "name": "python",
   "nbconvert_exporter": "python",
   "pygments_lexer": "ipython3",
   "version": "3.7.12"
  },
  "orig_nbformat": 4,
  "vscode": {
   "interpreter": {
    "hash": "773222f27068e2e4d4101b54fcc4627fb86b5a4591044e309acc2fe4a75e6810"
   }
  }
 },
 "nbformat": 4,
 "nbformat_minor": 2
}
