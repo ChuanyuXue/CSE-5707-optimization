{
 "cells": [
  {
   "cell_type": "code",
   "execution_count": 1,
   "metadata": {},
   "outputs": [],
   "source": [
    "import pandas as pd\n",
    "import numpy as np\n",
    "from gurobipy import GRB\n",
    "import gurobipy as gp"
   ]
  },
  {
   "cell_type": "code",
   "execution_count": 2,
   "metadata": {},
   "outputs": [],
   "source": [
    "holds = [\n",
    "    ['Front', 10, 6800],\n",
    "    ['Center',16,8700],\n",
    "    ['Back',8,5300],\n",
    "]\n",
    "holds = pd.DataFrame(holds, columns=['Hold','Weight','Volume'])"
   ]
  },
  {
   "cell_type": "code",
   "execution_count": 3,
   "metadata": {},
   "outputs": [],
   "source": [
    "shipment = [\n",
    "    ['C1',18,480,310],\n",
    "    ['C2',15,650,380],\n",
    "    ['C3',23,580,350],\n",
    "    ['C4',12,390,285],\n",
    "]\n",
    "shipment = pd.DataFrame(shipment, columns=['Cargo','Weight','Volume','Profit'])"
   ]
  },
  {
   "cell_type": "code",
   "execution_count": 4,
   "metadata": {},
   "outputs": [
    {
     "name": "stdout",
     "output_type": "stream",
     "text": [
      "Restricted license - for non-production use only - expires 2023-10-25\n"
     ]
    }
   ],
   "source": [
    "m = gp.Model(\"Cargo\")"
   ]
  },
  {
   "cell_type": "code",
   "execution_count": 5,
   "metadata": {},
   "outputs": [],
   "source": [
    "## Allocating decision variables.\n",
    "## x[i][j] -> put x[i][j] proportion of cargo i to hold j\n",
    "x = m.addMVar(shape = (4, 3), vtype=GRB.CONTINUOUS, name=\"decision\")"
   ]
  },
  {
   "cell_type": "code",
   "execution_count": 6,
   "metadata": {},
   "outputs": [],
   "source": [
    "## Decision variables should be proportions, so in the range [0,1]\n",
    "for i in range(len(shipment)):\n",
    "    for j in range(len(holds)):\n",
    "        m.addConstr(\n",
    "            x[i][j] >= 0\n",
    "        )"
   ]
  },
  {
   "cell_type": "code",
   "execution_count": 7,
   "metadata": {},
   "outputs": [],
   "source": [
    "for i in range(len(shipment)):\n",
    "    m.addConstr(\n",
    "        gp.quicksum(x[i]) <= shipment.loc[i, 'Weight']\n",
    "    )"
   ]
  },
  {
   "cell_type": "code",
   "execution_count": 8,
   "metadata": {},
   "outputs": [],
   "source": [
    "for j, row in holds.iterrows():\n",
    "    ## Add constraints on each hold's weight capacity\n",
    "    m.addConstr(\n",
    "        gp.quicksum(\n",
    "            x[k][j]\n",
    "            for k in range(len(shipment))\n",
    "        ) <= row['Weight']\n",
    "    )\n",
    "    ## Add constraints on each hold's space capacity\n",
    "    m.addConstr(\n",
    "        gp.quicksum(\n",
    "            x[k][j] * shipment.loc[k, 'Volume']\n",
    "            for k in range(len(shipment))\n",
    "        ) <= row['Volume']\n",
    "    )"
   ]
  },
  {
   "cell_type": "code",
   "execution_count": 9,
   "metadata": {},
   "outputs": [],
   "source": [
    "## Add weight proportion constraints\n",
    "for j, row in holds.iterrows():\n",
    "    for i, row in holds.iterrows():\n",
    "        if i > j:\n",
    "            p1 = gp.quicksum(\n",
    "                    x[k][j]\n",
    "                    for k in range(len(shipment))\n",
    "                ) / holds.loc[j, 'Weight']\n",
    "            p2 = gp.quicksum(\n",
    "                    x[k][i]\n",
    "                    for k in range(len(shipment))\n",
    "                ) / holds.loc[i, 'Weight']\n",
    "            m.addConstr(p1 == p2)"
   ]
  },
  {
   "cell_type": "code",
   "execution_count": 10,
   "metadata": {},
   "outputs": [],
   "source": [
    "## Add objective\n",
    "m.setObjective(\n",
    "    gp.quicksum(\n",
    "        gp.quicksum(x[k]) * shipment.loc[k, 'Profit']\n",
    "        for k in range(len(shipment))\n",
    "    )\n",
    "    ,GRB.MAXIMIZE\n",
    ")"
   ]
  },
  {
   "cell_type": "code",
   "execution_count": 11,
   "metadata": {},
   "outputs": [
    {
     "name": "stdout",
     "output_type": "stream",
     "text": [
      "Gurobi Optimizer version 9.5.2 build v9.5.2rc0 (mac64[x86])\n",
      "Thread count: 4 physical cores, 8 logical processors, using up to 8 threads\n",
      "Optimize a model with 25 rows, 12 columns and 72 nonzeros\n",
      "Model fingerprint: 0x339a5256\n",
      "Coefficient statistics:\n",
      "  Matrix range     [6e-02, 6e+02]\n",
      "  Objective range  [3e+02, 4e+02]\n",
      "  Bounds range     [0e+00, 0e+00]\n",
      "  RHS range        [8e+00, 9e+03]\n",
      "Presolve removed 13 rows and 0 columns\n",
      "Presolve time: 0.01s\n",
      "Presolved: 12 rows, 12 columns, 52 nonzeros\n",
      "\n",
      "Iteration    Objective       Primal Inf.    Dual Inf.      Time\n",
      "       0    2.2750000e+04   4.329057e+03   0.000000e+00      0s\n",
      "      14    1.2151579e+04   0.000000e+00   0.000000e+00      0s\n",
      "\n",
      "Solved in 14 iterations and 0.01 seconds (0.00 work units)\n",
      "Optimal objective  1.215157895e+04\n"
     ]
    }
   ],
   "source": [
    "## Optimization\n",
    "try: \n",
    "    m.optimize()\n",
    "except gp.GurobiError as E:\n",
    "    print(\"Optimize failed\", E)"
   ]
  },
  {
   "cell_type": "code",
   "execution_count": 12,
   "metadata": {},
   "outputs": [
    {
     "name": "stdout",
     "output_type": "stream",
     "text": [
      "Distribute 0.000000 C1 to Front\n",
      "Distribute 0.000000 C1 to Center\n",
      "Distribute 0.000000 C1 to Back\n",
      "Distribute 10.000000 C2 to Front\n",
      "Distribute 0.000000 C2 to Center\n",
      "Distribute 5.000000 C2 to Back\n",
      "Distribute 0.000000 C3 to Front\n",
      "Distribute 12.947368 C3 to Center\n",
      "Distribute 3.000000 C3 to Back\n",
      "Distribute 0.000000 C4 to Front\n",
      "Distribute 3.052632 C4 to Center\n",
      "Distribute 0.000000 C4 to Back\n"
     ]
    }
   ],
   "source": [
    "for i in range(len(shipment)):\n",
    "    for j in range(len(holds)):\n",
    "        print('Distribute %f %s to %s'%(x[i][j].x, shipment.loc[i, 'Cargo'], holds.loc[j, 'Hold']))"
   ]
  },
  {
   "cell_type": "code",
   "execution_count": 13,
   "metadata": {},
   "outputs": [
    {
     "name": "stdout",
     "output_type": "stream",
     "text": [
      "12151.57894736842\n"
     ]
    }
   ],
   "source": [
    "total = sum([sum([x[i][j].x for j in range(len(holds))])*shipment.loc[i, 'Profit'] for i in range(len(shipment))])\n",
    "#for i in range(len(shipment)):\n",
    "print(total)  \n",
    "#12151.57894736842 "
   ]
  }
 ],
 "metadata": {
  "kernelspec": {
   "display_name": "Python 3.7.12 ('base')",
   "language": "python",
   "name": "python3"
  },
  "language_info": {
   "codemirror_mode": {
    "name": "ipython",
    "version": 3
   },
   "file_extension": ".py",
   "mimetype": "text/x-python",
   "name": "python",
   "nbconvert_exporter": "python",
   "pygments_lexer": "ipython3",
   "version": "3.7.12"
  },
  "orig_nbformat": 4,
  "vscode": {
   "interpreter": {
    "hash": "773222f27068e2e4d4101b54fcc4627fb86b5a4591044e309acc2fe4a75e6810"
   }
  }
 },
 "nbformat": 4,
 "nbformat_minor": 2
}
