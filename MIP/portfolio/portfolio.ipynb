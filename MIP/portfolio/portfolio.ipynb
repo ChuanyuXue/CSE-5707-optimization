{
 "cells": [
  {
   "cell_type": "code",
   "execution_count": 21,
   "metadata": {},
   "outputs": [],
   "source": [
    "import pandas as pd\n",
    "import numpy as np\n",
    "from gurobipy import GRB\n",
    "import gurobipy as gp"
   ]
  },
  {
   "cell_type": "code",
   "execution_count": 22,
   "metadata": {},
   "outputs": [],
   "source": [
    "investments = [\n",
    "    [0, 4.1, 5.8, 6.5, 6.8],\n",
    "    [0, 1.8, 3.0, 3.9, 4.5],\n",
    "    [0, 1.5, 2.5, 3.3, 3.8],\n",
    "    [0, 2.2, 3.8, 4.8, 5.5],\n",
    "    [0, 1.3, 2.4, 3.2, 3.9],\n",
    "    [0, 4.2, 5.9, 6.6, 6.8],\n",
    "    [0, 2.2, 3.5, 4.2, 4.6],\n",
    "    [0, 1.0, 1.7, 2.3, 2.8]\n",
    "]"
   ]
  },
  {
   "cell_type": "code",
   "execution_count": 23,
   "metadata": {},
   "outputs": [],
   "source": [
    "m = gp.Model(\"portfolio\")"
   ]
  },
  {
   "cell_type": "code",
   "execution_count": 24,
   "metadata": {},
   "outputs": [],
   "source": [
    "## Allocate decision variables\n",
    "x = m.addMVar(shape=(len(investments), 5), vtype=GRB.BINARY, name=\"decision\")"
   ]
  },
  {
   "cell_type": "code",
   "execution_count": 25,
   "metadata": {},
   "outputs": [],
   "source": [
    "# ## Add constraints on max/min investment levels\n",
    "\n",
    "for i in range(x.shape[0]):\n",
    "    m.addConstr(\n",
    "        0 <= gp.quicksum(x[i])\n",
    "    )\n",
    "    m.addConstr(\n",
    "        gp.quicksum(x[i]) <= 1\n",
    "    )\n"
   ]
  },
  {
   "cell_type": "code",
   "execution_count": 26,
   "metadata": {},
   "outputs": [
    {
     "data": {
      "text/plain": [
       "<gurobi.Constr *Awaiting Model Update*>"
      ]
     },
     "execution_count": 26,
     "metadata": {},
     "output_type": "execute_result"
    }
   ],
   "source": [
    "## Add constraint on total funding\n",
    "m.addConstr(\n",
    "    gp.quicksum(x[i][k] * 10 * k for i in range(x.shape[0]) for k in range(x.shape[1])) <= 100\n",
    ")"
   ]
  },
  {
   "cell_type": "code",
   "execution_count": 27,
   "metadata": {},
   "outputs": [],
   "source": [
    "## First part is revenue from investments, second part is return form savings\n",
    "obj_f = gp.quicksum([investments[i][k] * x[i][k] for i in range(x.shape[0]) for k in range(x.shape[1])])\\\n",
    " + (100 -  gp.quicksum(x[i][k] * 10 * k for i in range(x.shape[0]) for k in range(x.shape[1]))) * 0.05"
   ]
  },
  {
   "cell_type": "code",
   "execution_count": 28,
   "metadata": {},
   "outputs": [],
   "source": [
    "m.setObjective(\n",
    "    obj_f\n",
    "    ,GRB.MAXIMIZE\n",
    ")"
   ]
  },
  {
   "cell_type": "code",
   "execution_count": 29,
   "metadata": {},
   "outputs": [
    {
     "name": "stdout",
     "output_type": "stream",
     "text": [
      "Gurobi Optimizer version 9.5.2 build v9.5.2rc0 (mac64[arm])\n",
      "Thread count: 8 physical cores, 8 logical processors, using up to 8 threads\n",
      "Optimize a model with 17 rows, 40 columns and 112 nonzeros\n",
      "Model fingerprint: 0xacbcbb4e\n",
      "Variable types: 0 continuous, 40 integer (40 binary)\n",
      "Coefficient statistics:\n",
      "  Matrix range     [1e+00, 4e+01]\n",
      "  Objective range  [5e-01, 5e+00]\n",
      "  Bounds range     [1e+00, 1e+00]\n",
      "  RHS range        [1e+00, 1e+02]\n",
      "Found heuristic solution: objective 19.3000000\n",
      "Presolve removed 8 rows and 13 columns\n",
      "Presolve time: 0.00s\n",
      "Presolved: 9 rows, 27 columns, 54 nonzeros\n",
      "Variable types: 0 continuous, 27 integer (27 binary)\n",
      "Found heuristic solution: objective 20.7000000\n",
      "\n",
      "Root relaxation: objective 2.230000e+01, 11 iterations, 0.00 seconds (0.00 work units)\n",
      "\n",
      "    Nodes    |    Current Node    |     Objective Bounds      |     Work\n",
      " Expl Unexpl |  Obj  Depth IntInf | Incumbent    BestBd   Gap | It/Node Time\n",
      "\n",
      "*    0     0               0      22.3000000   22.30000  0.00%     -    0s\n",
      "\n",
      "Explored 1 nodes (11 simplex iterations) in 0.01 seconds (0.00 work units)\n",
      "Thread count was 8 (of 8 available processors)\n",
      "\n",
      "Solution count 3: 22.3 20.7 19.3 \n",
      "\n",
      "Optimal solution found (tolerance 1.00e-04)\n",
      "Best objective 2.230000000000e+01, best bound 2.230000000000e+01, gap 0.0000%\n"
     ]
    }
   ],
   "source": [
    "try: \n",
    "    m.optimize()\n",
    "except gp.GurobiError as E:\n",
    "    print(\"Optimize failed\", E)"
   ]
  },
  {
   "cell_type": "code",
   "execution_count": 30,
   "metadata": {},
   "outputs": [
    {
     "data": {
      "text/plain": [
       "array([[ 0.,  0.,  1., -0.,  0.],\n",
       "       [ 0.,  1.,  0., -0., -0.],\n",
       "       [ 0.,  1., -0., -0.,  0.],\n",
       "       [ 0., -0.,  1., -0., -0.],\n",
       "       [ 0.,  1., -0., -0., -0.],\n",
       "       [ 0.,  0.,  1., -0.,  0.],\n",
       "       [ 0.,  1.,  0., -0.,  0.],\n",
       "       [ 0., -0., -0., -0.,  0.]])"
      ]
     },
     "execution_count": 30,
     "metadata": {},
     "output_type": "execute_result"
    }
   ],
   "source": [
    "x.x"
   ]
  },
  {
   "cell_type": "code",
   "execution_count": null,
   "metadata": {},
   "outputs": [],
   "source": []
  }
 ],
 "metadata": {
  "kernelspec": {
   "display_name": "Python 3.9.2 ('chuanyu_python39')",
   "language": "python",
   "name": "python3"
  },
  "language_info": {
   "codemirror_mode": {
    "name": "ipython",
    "version": 3
   },
   "file_extension": ".py",
   "mimetype": "text/x-python",
   "name": "python",
   "nbconvert_exporter": "python",
   "pygments_lexer": "ipython3",
   "version": "3.9.2"
  },
  "orig_nbformat": 4,
  "vscode": {
   "interpreter": {
    "hash": "b658b93575a16dafdf00f5313d36bbc5ac0ec49ea379e64c9fa6db2ffc1a77f9"
   }
  }
 },
 "nbformat": 4,
 "nbformat_minor": 2
}
