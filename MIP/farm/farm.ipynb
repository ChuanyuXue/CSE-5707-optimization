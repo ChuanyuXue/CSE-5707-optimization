{
 "cells": [
  {
   "cell_type": "code",
   "execution_count": 18,
   "metadata": {},
   "outputs": [],
   "source": [
    "import pandas as pd\n",
    "import numpy as np\n",
    "from gurobipy import GRB\n",
    "import gurobipy as gp"
   ]
  },
  {
   "cell_type": "code",
   "execution_count": 19,
   "metadata": {},
   "outputs": [],
   "source": [
    "cows = [i for i in range(1, 82)]"
   ]
  },
  {
   "cell_type": "code",
   "execution_count": 20,
   "metadata": {},
   "outputs": [
    {
     "data": {
      "text/plain": [
       "369.0"
      ]
     },
     "execution_count": 20,
     "metadata": {},
     "output_type": "execute_result"
    }
   ],
   "source": [
    "sum(cows)/9"
   ]
  },
  {
   "cell_type": "code",
   "execution_count": 21,
   "metadata": {},
   "outputs": [],
   "source": [
    "m = gp.Model(\"farm\")"
   ]
  },
  {
   "cell_type": "code",
   "execution_count": 22,
   "metadata": {},
   "outputs": [],
   "source": [
    "x = m.addMVar(shape=(9, len(cows)), vtype=GRB.BINARY, name=\"decision\")"
   ]
  },
  {
   "cell_type": "code",
   "execution_count": 23,
   "metadata": {},
   "outputs": [],
   "source": [
    "## Constraints on number of cows for each son\n",
    "for i in range(x.shape[0]):\n",
    "    m.addConstr(\n",
    "        gp.quicksum(x[i]) == 9\n",
    "    )"
   ]
  },
  {
   "cell_type": "code",
   "execution_count": 24,
   "metadata": {},
   "outputs": [],
   "source": [
    "## Constraints on 1 cow per son\n",
    "for j in range(x.shape[1]):\n",
    "    m.addConstr(\n",
    "        gp.quicksum(x[i][j] for i in range(x.shape[0])) == 1\n",
    "    )"
   ]
  },
  {
   "cell_type": "code",
   "execution_count": 25,
   "metadata": {},
   "outputs": [],
   "source": [
    "## Constraints on total amount of milk for each son\n",
    "for i in range(x.shape[0]):\n",
    "    m.addConstr(\n",
    "        gp.quicksum(x[i][j]*cows[j] for j in range(len(cows))) == sum(cows)/9\n",
    "    )"
   ]
  },
  {
   "cell_type": "code",
   "execution_count": 26,
   "metadata": {},
   "outputs": [],
   "source": [
    "m.setObjective(\n",
    "    True\n",
    ")"
   ]
  },
  {
   "cell_type": "code",
   "execution_count": 27,
   "metadata": {},
   "outputs": [
    {
     "name": "stdout",
     "output_type": "stream",
     "text": [
      "Gurobi Optimizer version 9.5.2 build v9.5.2rc0 (mac64[x86])\n",
      "Thread count: 4 physical cores, 8 logical processors, using up to 8 threads\n",
      "Optimize a model with 99 rows, 729 columns and 2187 nonzeros\n",
      "Model fingerprint: 0xece49b7d\n",
      "Variable types: 0 continuous, 729 integer (729 binary)\n",
      "Coefficient statistics:\n",
      "  Matrix range     [1e+00, 8e+01]\n",
      "  Objective range  [0e+00, 0e+00]\n",
      "  Bounds range     [1e+00, 1e+00]\n",
      "  RHS range        [1e+00, 4e+02]\n",
      "Presolve time: 0.00s\n",
      "Presolved: 99 rows, 729 columns, 2178 nonzeros\n",
      "Variable types: 0 continuous, 729 integer (729 binary)\n",
      "\n",
      "Root relaxation: objective 1.000000e+00, 121 iterations, 0.00 seconds (0.00 work units)\n",
      "\n",
      "    Nodes    |    Current Node    |     Objective Bounds      |     Work\n",
      " Expl Unexpl |  Obj  Depth IntInf | Incumbent    BestBd   Gap | It/Node Time\n",
      "\n",
      "     0     0    1.00000    0   17          -    1.00000      -     -    0s\n",
      "     0     0    1.00000    0   28          -    1.00000      -     -    0s\n",
      "H    0     0                       1.0000000    1.00000  0.00%     -    0s\n",
      "     0     0    1.00000    0   19    1.00000    1.00000  0.00%     -    0s\n",
      "\n",
      "Cutting planes:\n",
      "  Gomory: 5\n",
      "  Cover: 14\n",
      "  MIR: 2\n",
      "  StrongCG: 2\n",
      "  Zero half: 4\n",
      "  RLT: 5\n",
      "\n",
      "Explored 1 nodes (1495 simplex iterations) in 0.11 seconds (0.04 work units)\n",
      "Thread count was 8 (of 8 available processors)\n",
      "\n",
      "Solution count 1: 1 \n",
      "\n",
      "Optimal solution found (tolerance 1.00e-04)\n",
      "Best objective 1.000000000000e+00, best bound 1.000000000000e+00, gap 0.0000%\n"
     ]
    }
   ],
   "source": [
    "try: \n",
    "    m.optimize()\n",
    "except gp.GurobiError as E:\n",
    "    print(\"Optimize failed\", E)"
   ]
  },
  {
   "cell_type": "code",
   "execution_count": 32,
   "metadata": {},
   "outputs": [
    {
     "name": "stdout",
     "output_type": "stream",
     "text": [
      "Son 0: [17, 21, 29, 31, 34, 37, 59, 64, 77] 369\n",
      "Son 1: [9, 15, 24, 35, 42, 51, 52, 66, 75] 369\n",
      "Son 2: [1, 6, 7, 20, 49, 67, 68, 72, 79] 369\n",
      "Son 3: [4, 13, 18, 26, 50, 54, 60, 70, 74] 369\n",
      "Son 4: [5, 16, 22, 25, 40, 46, 63, 71, 81] 369\n",
      "Son 5: [8, 19, 23, 33, 39, 53, 56, 58, 80] 369\n",
      "Son 6: [12, 27, 36, 41, 43, 44, 47, 57, 62] 369\n",
      "Son 7: [10, 14, 28, 32, 38, 45, 61, 65, 76] 369\n",
      "Son 8: [2, 3, 11, 30, 48, 55, 69, 73, 78] 369\n"
     ]
    }
   ],
   "source": [
    "for i in range(x.shape[0]):\n",
    "    taken = [i+1 for i,v in enumerate([x[i][j].x for j in range(len(cows))]) if v == 1]\n",
    "    print(\"Son \" + str(i) + \":\", taken, sum(taken))"
   ]
  }
 ],
 "metadata": {
  "kernelspec": {
   "display_name": "Python 3.7.12 ('base')",
   "language": "python",
   "name": "python3"
  },
  "language_info": {
   "codemirror_mode": {
    "name": "ipython",
    "version": 3
   },
   "file_extension": ".py",
   "mimetype": "text/x-python",
   "name": "python",
   "nbconvert_exporter": "python",
   "pygments_lexer": "ipython3",
   "version": "3.7.12"
  },
  "orig_nbformat": 4,
  "vscode": {
   "interpreter": {
    "hash": "773222f27068e2e4d4101b54fcc4627fb86b5a4591044e309acc2fe4a75e6810"
   }
  }
 },
 "nbformat": 4,
 "nbformat_minor": 2
}
